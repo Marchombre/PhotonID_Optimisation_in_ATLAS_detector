{
 "cells": [
  {
   "cell_type": "code",
   "execution_count": 12,
   "id": "c8a01677-19d1-49d2-99c8-1b7c9d88e102",
   "metadata": {},
   "outputs": [],
   "source": [
    "import numpy as np\n",
    "import pandas as pd\n",
    "import pickle"
   ]
  },
  {
   "cell_type": "code",
   "execution_count": 13,
   "id": "a3708a8c-c305-4420-81c3-42e7ccb89a80",
   "metadata": {},
   "outputs": [],
   "source": [
    "# Chemin pour save and load les fichiers pickle\n",
    "datadir = '/home/chardong/y_identification/Venv/save_pkl/Fudge_Factor/'"
   ]
  },
  {
   "cell_type": "code",
   "execution_count": 14,
   "id": "46d4fb60-bb1c-4995-adb3-adad40a23752",
   "metadata": {},
   "outputs": [],
   "source": [
    "totald = pd.read_pickle(datadir+\"Py8_yj_jj_mc16ade_pd122_train_w_skim_05.pkl\")"
   ]
  },
  {
   "cell_type": "code",
   "execution_count": 15,
   "id": "b71dfb99-e8c5-4eef-bef9-9dc31920da08",
   "metadata": {
    "scrolled": true
   },
   "outputs": [
    {
     "data": {
      "text/plain": [
       "['y_Reta',\n",
       " 'y_Rphi',\n",
       " 'y_weta2',\n",
       " 'y_fracs1',\n",
       " 'y_weta1',\n",
       " 'y_wtots1',\n",
       " 'y_Rhad',\n",
       " 'y_Rhad1',\n",
       " 'y_Eratio',\n",
       " 'y_deltae',\n",
       " 'y_noFF_Reta',\n",
       " 'y_noFF_Rphi',\n",
       " 'y_noFF_weta2',\n",
       " 'y_noFF_fracs1',\n",
       " 'y_noFF_weta1',\n",
       " 'y_noFF_wtots1',\n",
       " 'y_noFF_Rhad',\n",
       " 'y_noFF_Rhad1',\n",
       " 'y_noFF_Eratio',\n",
       " 'y_noFF_deltae',\n",
       " 'y_convRadius',\n",
       " 'y_convType',\n",
       " 'y_pt',\n",
       " 'y_eta',\n",
       " 'y_phi',\n",
       " 'evt_mu',\n",
       " 'y_jmin_dr',\n",
       " 'y_IsTight',\n",
       " 'y_IsLoose',\n",
       " 'y_truth_pt',\n",
       " 'y_truth_eta',\n",
       " 'weight',\n",
       " 'truth_label']"
      ]
     },
     "execution_count": 15,
     "metadata": {},
     "output_type": "execute_result"
    }
   ],
   "source": [
    "columns = list(totald.columns)\n",
    "columns"
   ]
  },
  {
   "cell_type": "markdown",
   "id": "04020954-3281-4355-a9f2-3b9cad33b860",
   "metadata": {},
   "source": [
    "# Fonction on shower-shape variables depending on their Fudge Factor to create the upper and bottom boundary.\n",
    "Be carefull about X > X_noFF or X < X_noFF to correctly applied the function"
   ]
  },
  {
   "cell_type": "markdown",
   "id": "98c73324-ba3b-4f4a-942f-9501a6b75c92",
   "metadata": {},
   "source": [
    "FFplus Calculation:\n",
    "    \n",
    "- If X_noFF is greater than or equal to X, it means that X is lower, so we increase X by half the difference to get FFplus.\n",
    "- If X_noFF is less than X, it means that X is higher, so we decrease X by half the difference to get FFplus.\n",
    "\n",
    "FFminus Calculation:\n",
    "    \n",
    "- If X_noFF is greater than or equal to X, it means that X is lower, so we decrease X by half the difference to get FFminus.\n",
    "- If X_noFF is less than X, it means that X is higher, so we increase X by half the difference to get FFminus.\n",
    "\n",
    "This ensures that FFplus and FFminus reflect the upper and lower bounds of the fudge factor adjustments."
   ]
  },
  {
   "cell_type": "code",
   "execution_count": null,
   "id": "b2910203-136f-4676-8e89-d7677f31b1ba",
   "metadata": {},
   "outputs": [],
   "source": [
    "def FF_combined(X, X_noFF):\n",
    "    FFplus = np.where(X_noFF >= X, X + (X_noFF - X) / 2, X - (X_noFF - X) / 2)\n",
    "    FFminus = np.where(X_noFF >= X, X - (X_noFF - X) / 2, X + (X_noFF - X) / 2)\n",
    "    return pd.Series(FFplus), pd.Series(FFminus)"
   ]
  },
  {
   "cell_type": "markdown",
   "id": "3f61f90e-b4da-4053-9350-5fd152b36b2a",
   "metadata": {},
   "source": [
    "TEST"
   ]
  },
  {
   "cell_type": "code",
   "execution_count": 11,
   "id": "ab0875f1-b80c-4b60-88d6-bb3daa40958e",
   "metadata": {},
   "outputs": [
    {
     "name": "stdout",
     "output_type": "stream",
     "text": [
      "0    0.950085\n",
      "dtype: float32\n",
      "0    0.946143\n",
      "dtype: float32\n",
      "0    0.974662\n",
      "dtype: float32\n",
      "0    0.969418\n",
      "dtype: float32\n"
     ]
    }
   ],
   "source": [
    "plusy_Reta, minusy_Reta = FF_combined(totald['y_Reta'], totald['y_noFF_Reta'])\n",
    "plusy_Rphi, minusy_Rphi = FF_combined(totald['y_Rphi'], totald['y_noFF_Rphi'])\n",
    "print(plusy_Reta.head(1))\n",
    "print(minusy_Reta.head(1))\n",
    "print(plusy_Rphi.head(1))\n",
    "print(minusy_Rphi.head(1))"
   ]
  },
  {
   "cell_type": "code",
   "execution_count": 5,
   "id": "cbbdac7f-8154-41de-8fdf-178244a9893a",
   "metadata": {},
   "outputs": [
    {
     "name": "stdout",
     "output_type": "stream",
     "text": [
      "            y_Reta    y_Rphi   y_weta2  y_fracs1   y_weta1  y_wtots1  \\\n",
      "33407159  0.948114  0.972040  0.010898  0.157839  0.540920  1.254022   \n",
      "36404334  0.972290  0.983953  0.008934  0.189961  0.595370  1.869640   \n",
      "14421770  0.955383  0.972751  0.009635  0.309654  0.601149  2.073747   \n",
      "4640291   0.967032  0.981241  0.009195  0.205499  0.575297  1.854882   \n",
      "31454373  0.971783  0.983002  0.009087  0.171319  0.598317  1.682183   \n",
      "\n",
      "            y_Rhad   y_Rhad1  y_Eratio    y_deltae  ...  y_wtots1_FFplus  \\\n",
      "33407159 -0.003790 -0.002192  0.984558   79.002472  ...              NaN   \n",
      "36404334 -0.000200 -0.000055  0.995755    7.003021  ...              NaN   \n",
      "14421770  0.002041  0.003310  0.983183   52.102280  ...              NaN   \n",
      "4640291  -0.000106 -0.000323  0.976117   55.048897  ...              NaN   \n",
      "31454373  0.001505  0.001421  0.976171  229.999527  ...              NaN   \n",
      "\n",
      "          y_wtots1_FFminus  y_Rhad_FFplus  y_Rhad_FFminus  y_Rhad1_FFplus  \\\n",
      "33407159               NaN            NaN             NaN             NaN   \n",
      "36404334               NaN            NaN             NaN             NaN   \n",
      "14421770               NaN            NaN             NaN             NaN   \n",
      "4640291                NaN            NaN             NaN             NaN   \n",
      "31454373               NaN            NaN             NaN             NaN   \n",
      "\n",
      "          y_Rhad1_FFminus  y_Eratio_FFplus  y_Eratio_FFminus  y_deltae_FFplus  \\\n",
      "33407159              NaN              NaN               NaN              NaN   \n",
      "36404334              NaN              NaN               NaN              NaN   \n",
      "14421770              NaN              NaN               NaN              NaN   \n",
      "4640291               NaN              NaN               NaN              NaN   \n",
      "31454373              NaN              NaN               NaN              NaN   \n",
      "\n",
      "          y_deltae_FFminus  \n",
      "33407159               NaN  \n",
      "36404334               NaN  \n",
      "14421770               NaN  \n",
      "4640291                NaN  \n",
      "31454373               NaN  \n",
      "\n",
      "[5 rows x 53 columns]\n"
     ]
    }
   ],
   "source": [
    "# Liste des colonnes shower shape\n",
    "shower_shape_columns = ['y_Reta', 'y_Rphi', 'y_weta2', 'y_fracs1', 'y_weta1', 'y_wtots1', 'y_Rhad', 'y_Rhad1', 'y_Eratio', 'y_deltae']\n",
    "\n",
    "# Appliquer la fonction à chaque paire de colonnes\n",
    "for col in shower_shape_columns:\n",
    "    noFF_col = 'y_noFF_' + col.split('_')[1]\n",
    "    if noFF_col in totald.columns:\n",
    "        totald[f'{col}_FFplus'], totald[f'{col}_FFminus'] = FF_combined(totald[col], totald[noFF_col])\n",
    "\n",
    "#print(totald.head(5))"
   ]
  },
  {
   "cell_type": "code",
   "execution_count": 6,
   "id": "9093d91b-df3d-4d97-a167-43b169fc26b7",
   "metadata": {},
   "outputs": [
    {
     "name": "stdout",
     "output_type": "stream",
     "text": [
      "DataFrame avec FFminus sauvegardé.\n",
      "DataFrame avec FFplus sauvegardé.\n",
      "DataFrame avec noFF sauvegardé.\n"
     ]
    }
   ],
   "source": [
    "# Créer et sauvegarder le DataFrame avec FFminus\n",
    "totald_FFminus = totald.copy()\n",
    "for col in shower_shape_columns:\n",
    "    totald_FFminus[col] = totald_FFminus[f'{col}_FFminus']\n",
    "totald_FFminus.drop(columns=[f'{col}_FFplus' for col in shower_shape_columns] + [f'y_noFF_{col.split(\"_\")[1]}' for col in shower_shape_columns], inplace=True)\n",
    "\n",
    "with open(datadir + 'totald_FFminus.pkl', 'wb') as f:\n",
    "    pickle.dump(totald_FFminus, f)\n",
    "print(\"DataFrame avec FFminus sauvegardé.\")\n",
    "\n",
    "# Créer et sauvegarder le DataFrame avec FFplus\n",
    "totald_FFplus = totald.copy()\n",
    "for col in shower_shape_columns:\n",
    "    totald_FFplus[col] = totald_FFplus[f'{col}_FFplus']\n",
    "totald_FFplus.drop(columns=[f'{col}_FFminus' for col in shower_shape_columns] + [f'y_noFF_{col.split(\"_\")[1]}' for col in shower_shape_columns], inplace=True)\n",
    "\n",
    "with open(datadir + 'totald_FFplus.pkl', 'wb') as f:\n",
    "    pickle.dump(totald_FFplus, f)\n",
    "print(\"DataFrame avec FFplus sauvegardé.\")\n",
    "\n",
    "# Créer et sauvegarder le DataFrame avec noFF\n",
    "totald_noFF = totald.copy()\n",
    "for col in shower_shape_columns:\n",
    "    noFF_col = 'y_noFF_' + col.split('_')[1]\n",
    "    totald_noFF[col] = totald_noFF[noFF_col]\n",
    "totald_noFF.drop(columns=[f'{col}_FFplus' for col in shower_shape_columns] + [f'{col}_FFminus' for col in shower_shape_columns], inplace=True)\n",
    "\n",
    "with open(datadir + 'totald_noFF.pkl', 'wb') as f:\n",
    "    pickle.dump(totald_noFF, f)\n",
    "print(\"DataFrame avec noFF sauvegardé.\")"
   ]
  },
  {
   "cell_type": "code",
   "execution_count": 7,
   "id": "c93bc1b6-d919-40fa-b8d4-ce297cee20fb",
   "metadata": {},
   "outputs": [],
   "source": [
    "# Liste des colonnes shower shape de base\n",
    "shower_shape_columns_base = [\n",
    "    'y_Reta', 'y_Rphi', 'y_weta2', 'y_fracs1', 'y_weta1',\n",
    "    'y_wtots1', 'y_Rhad', 'y_Rhad1', 'y_Eratio', 'y_deltae'\n",
    "]\n",
    "\n",
    "# Supprimer les colonnes des DataFrames\n",
    "totald_FFminus.drop(columns=shower_shape_columns_base, inplace=True, errors='ignore')\n",
    "totald_FFplus.drop(columns=shower_shape_columns_base, inplace=True, errors='ignore')\n",
    "totald_noFF.drop(columns=shower_shape_columns_base, inplace=True, errors='ignore')\n",
    "\n",
    "# Renommer les colonnes des DataFrames\n",
    "for col in shower_shape_columns_base:\n",
    "    totald_FFminus.rename(columns={f'{col}_FFminus': col}, inplace=True)\n",
    "    totald_FFplus.rename(columns={f'{col}_FFplus': col}, inplace=True)\n",
    "    totald_noFF.rename(columns={f'y_noFF_{col.split(\"_\")[1]}': col}, inplace=True)\n",
    "\n",
    "# Sauvegarder les DataFrames modifiés\n",
    "totald_FFminus.to_pickle(datadir + 'totald_FFminus.pkl')\n",
    "totald_FFplus.to_pickle(datadir + 'totald_FFplus.pkl')\n",
    "totald_noFF.to_pickle(datadir + 'totald_noFF.pkl')"
   ]
  }
 ],
 "metadata": {
  "kernelspec": {
   "display_name": "Python 3 (ipykernel)",
   "language": "python",
   "name": "python3"
  },
  "language_info": {
   "codemirror_mode": {
    "name": "ipython",
    "version": 3
   },
   "file_extension": ".py",
   "mimetype": "text/x-python",
   "name": "python",
   "nbconvert_exporter": "python",
   "pygments_lexer": "ipython3",
   "version": "3.10.12"
  }
 },
 "nbformat": 4,
 "nbformat_minor": 5
}
