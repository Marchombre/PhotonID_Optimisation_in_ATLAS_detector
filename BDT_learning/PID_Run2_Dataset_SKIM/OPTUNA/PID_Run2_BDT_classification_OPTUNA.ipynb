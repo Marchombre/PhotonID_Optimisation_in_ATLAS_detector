{
 "cells": [
  {
   "cell_type": "markdown",
   "metadata": {},
   "source": [
    "# Photon ID Run 2 BDT classification - Hyperparameter optimation\n",
    "\n",
    "https://github.com/optuna/optuna-examples/blob/main/lightgbm/lightgbm_simple.py"
   ]
  },
  {
   "cell_type": "code",
   "execution_count": 1,
   "metadata": {},
   "outputs": [
    {
     "name": "stderr",
     "output_type": "stream",
     "text": [
      "/home/chardong/Bureau/Work/vevn-py3.10/lib/python3.10/site-packages/tqdm/auto.py:21: TqdmWarning: IProgress not found. Please update jupyter and ipywidgets. See https://ipywidgets.readthedocs.io/en/stable/user_install.html\n",
      "  from .autonotebook import tqdm as notebook_tqdm\n"
     ]
    }
   ],
   "source": [
    "import numpy as np\n",
    "import pandas as pd\n",
    "import pickle\n",
    "import joblib\n",
    "\n",
    "import matplotlib as mpl\n",
    "import matplotlib.pyplot as plt\n",
    "import seaborn as sns\n",
    "\n",
    "import lightgbm as lgb\n",
    "import optuna\n",
    "\n",
    "from sklearn.model_selection import train_test_split\n",
    "from sklearn.metrics import RocCurveDisplay, accuracy_score"
   ]
  },
  {
   "cell_type": "code",
   "execution_count": 2,
   "metadata": {},
   "outputs": [],
   "source": [
    "datadir = \"/home/chardong/y_identification/Venv/save_pkl/\"\n",
    "savedir = \"/home/chardong/y_identification/Venv/save_plots/Py8_yj_jj_train_skim30/\"\n",
    "# Chemin pour enregistrer les fichiers pickle\n",
    "save_path = '/home/chardong/y_identification/Venv/save_pkl/Fudge_Factor/'\n",
    "#datadir = \"/eos/user/m/mdelmast/Data/EGamma/PhotonID/Run2/\"\n",
    "savedirmodel = \"/home/chardong/y_identification/Venv/BDT_model/skim30/\""
   ]
  },
  {
   "cell_type": "code",
   "execution_count": 3,
   "metadata": {},
   "outputs": [],
   "source": [
    "df = pd.read_pickle(datadir+\"RAW_data/Py8_yj_jj_mc16ade_pd122_train_w_skim_30.pkl\")"
   ]
  },
  {
   "cell_type": "code",
   "execution_count": 4,
   "metadata": {},
   "outputs": [],
   "source": [
    "shower_shape_var = ['y_Reta',\n",
    "                    'y_Rphi',\n",
    "                    'y_weta2',\n",
    "                    'y_fracs1',\n",
    "                    'y_weta1',\n",
    "                    'y_wtots1',\n",
    "                    'y_Rhad',\n",
    "                    'y_Rhad1',\n",
    "                    'y_Eratio', \n",
    "                    'y_deltae']\n",
    "\n",
    "conv_var = [ 'y_convRadius', 'y_convType']\n",
    "\n",
    "kinem_var = ['y_pt', 'y_eta', 'y_phi']\n",
    "\n",
    "truth_var = ['y_truth_pt', 'y_truth_eta' ]\n",
    "\n",
    "discriminating_var = shower_shape_var + kinem_var + conv_var \n",
    "\n",
    "Y_var = list(set(df.columns)-set(discriminating_var+truth_var))"
   ]
  },
  {
   "cell_type": "code",
   "execution_count": 5,
   "metadata": {},
   "outputs": [],
   "source": [
    "X = df[discriminating_var+truth_var]\n",
    "Y = df[Y_var]\n",
    "\n",
    "x_train_val, x_test, y_train_val, y_test = train_test_split(X, Y, test_size=0.2, random_state=42)\n",
    "x_train, x_val, y_train, y_val = train_test_split(x_train_val, y_train_val, test_size=0.2, random_state=42)\n",
    "\n",
    "weight_train = y_train[\"weight\"]\n",
    "weight_val   = y_val  [\"weight\"]\n",
    "weight_test  = y_test [\"weight\"]\n",
    "\n",
    "Y_var_drop = list(set(Y_var)-{\"truth_label\"})\n",
    "\n",
    "othervars_train = y_train[Y_var_drop]\n",
    "othervars_val   = y_val  [Y_var_drop]\n",
    "othervars_test  = y_test [Y_var_drop]\n",
    "\n",
    "y_train = y_train.drop(Y_var_drop, axis=1)\n",
    "y_test  = y_test .drop(Y_var_drop, axis=1)\n",
    "y_val   = y_val  .drop(Y_var_drop, axis=1)\n",
    "\n",
    "truth_train = x_train[truth_var]\n",
    "truth_val   = x_val  [truth_var]\n",
    "truth_test  = x_test [truth_var]\n",
    "\n",
    "x_train = x_train.drop(truth_var, axis=1)\n",
    "x_test  = x_test .drop(truth_var, axis=1)\n",
    "x_val   = x_val  .drop(truth_var, axis=1)\n",
    "\n",
    "y_train = np.ravel(y_train)\n",
    "y_val   = np.ravel(y_val)"
   ]
  },
  {
   "cell_type": "code",
   "execution_count": 6,
   "metadata": {},
   "outputs": [],
   "source": [
    "# https://scikit-learn.org/stable/auto_examples/model_selection/plot_precision_recall.html#sphx-glr-auto-examples-model-selection-plot-precision-recall-py\n",
    "\n",
    "def classification_metric(testy, probs):\n",
    "    from sklearn.metrics import precision_recall_curve\n",
    "    precision, recall, thresholds = precision_recall_curve(testy, probs[:,1])\n",
    "    # convert to f score\n",
    "    fscore = (2 * precision * recall) / (precision + recall)\n",
    "    # locate the index of the largest f score\n",
    "    ix = np.argmax(fscore)\n",
    "    return fscore[ix]\n",
    "\n",
    "def objective(trial):\n",
    "    \n",
    "    model = lgb.LGBMClassifier(learning_rate  = 0.01,  \n",
    "                               num_leaves     = 191,\n",
    "                               max_depth      = trial.suggest_int(\"max_depth\", -100, -1), # tries various value trying to get maximum accuracy\n",
    "                               objective      = 'xentropy',\n",
    "                               n_estimators   = 10,\n",
    "                               force_col_wise = True,\n",
    "                               verbosity      = -1)\n",
    "\n",
    "    cb = [lgb.early_stopping(stopping_rounds=10),lgb.log_evaluation(30)]\n",
    "\n",
    "    model.fit(x_train, y_train,\n",
    "          sample_weight = weight_train,\n",
    "          eval_set = [(x_train, y_train), (x_val, y_val)],  \n",
    "          eval_names = ['Train', 'Validation'],\n",
    "          eval_sample_weight = [weight_train, weight_val],\n",
    "          callbacks = cb)\n",
    "    \n",
    "    y_pred_prob_test = model.predict_proba(x_test)\n",
    "    return classification_metric(y_test, y_pred_prob_test)"
   ]
  },
  {
   "cell_type": "code",
   "execution_count": 7,
   "metadata": {},
   "outputs": [
    {
     "name": "stderr",
     "output_type": "stream",
     "text": [
      "[I 2024-07-25 20:17:32,153] A new study created in memory with name: no-name-f3dddca3-7249-4b6f-b811-85176012a14d\n"
     ]
    },
    {
     "name": "stdout",
     "output_type": "stream",
     "text": [
      "Training until validation scores don't improve for 10 rounds\n",
      "Did not meet early stopping. Best iteration is:\n",
      "[10]\tTrain's cross_entropy: 0.634525\tValidation's cross_entropy: 0.628767\n"
     ]
    },
    {
     "name": "stderr",
     "output_type": "stream",
     "text": [
      "[I 2024-07-25 20:18:14,224] Trial 0 finished with value: 0.9719974931449857 and parameters: {'max_depth': -93}. Best is trial 0 with value: 0.9719974931449857.\n"
     ]
    },
    {
     "name": "stdout",
     "output_type": "stream",
     "text": [
      "Training until validation scores don't improve for 10 rounds\n",
      "Did not meet early stopping. Best iteration is:\n",
      "[10]\tTrain's cross_entropy: 0.634525\tValidation's cross_entropy: 0.628767\n"
     ]
    },
    {
     "name": "stderr",
     "output_type": "stream",
     "text": [
      "[I 2024-07-25 20:18:56,601] Trial 1 finished with value: 0.9719974931449857 and parameters: {'max_depth': -23}. Best is trial 0 with value: 0.9719974931449857.\n"
     ]
    },
    {
     "name": "stdout",
     "output_type": "stream",
     "text": [
      "Training until validation scores don't improve for 10 rounds\n",
      "Did not meet early stopping. Best iteration is:\n",
      "[10]\tTrain's cross_entropy: 0.634525\tValidation's cross_entropy: 0.628767\n"
     ]
    },
    {
     "name": "stderr",
     "output_type": "stream",
     "text": [
      "[I 2024-07-25 20:19:38,125] Trial 2 finished with value: 0.9719974931449857 and parameters: {'max_depth': -2}. Best is trial 0 with value: 0.9719974931449857.\n"
     ]
    },
    {
     "name": "stdout",
     "output_type": "stream",
     "text": [
      "Training until validation scores don't improve for 10 rounds\n",
      "Did not meet early stopping. Best iteration is:\n",
      "[10]\tTrain's cross_entropy: 0.634525\tValidation's cross_entropy: 0.628767\n"
     ]
    },
    {
     "name": "stderr",
     "output_type": "stream",
     "text": [
      "[I 2024-07-25 20:20:19,787] Trial 3 finished with value: 0.9719974931449857 and parameters: {'max_depth': -97}. Best is trial 0 with value: 0.9719974931449857.\n"
     ]
    },
    {
     "name": "stdout",
     "output_type": "stream",
     "text": [
      "Training until validation scores don't improve for 10 rounds\n",
      "Did not meet early stopping. Best iteration is:\n",
      "[10]\tTrain's cross_entropy: 0.634525\tValidation's cross_entropy: 0.628767\n"
     ]
    },
    {
     "name": "stderr",
     "output_type": "stream",
     "text": [
      "[I 2024-07-25 20:21:01,578] Trial 4 finished with value: 0.9719974931449857 and parameters: {'max_depth': -45}. Best is trial 0 with value: 0.9719974931449857.\n"
     ]
    },
    {
     "name": "stdout",
     "output_type": "stream",
     "text": [
      "Number of finished trials: 5\n",
      "Best trial:\n",
      "  Value: 0.9719974931449857\n",
      "  Params: \n",
      "    max_depth: -93\n"
     ]
    }
   ],
   "source": [
    "study = optuna.create_study(direction=\"maximize\")\n",
    "study.optimize(objective, n_trials=5)\n",
    "\n",
    "print(\"Number of finished trials: {}\".format(len(study.trials)))\n",
    "\n",
    "print(\"Best trial:\")\n",
    "trial = study.best_trial\n",
    "\n",
    "print(\"  Value: {}\".format(trial.value))\n",
    "\n",
    "print(\"  Params: \")\n",
    "for key, value in trial.params.items():\n",
    "    print(\"    {}: {}\".format(key, value))"
   ]
  },
  {
   "cell_type": "code",
   "execution_count": null,
   "metadata": {},
   "outputs": [],
   "source": []
  }
 ],
 "metadata": {
  "@webio": {
   "lastCommId": null,
   "lastKernelId": null
  },
  "kernelspec": {
   "display_name": "Python 3 (ipykernel)",
   "language": "python",
   "name": "python3"
  },
  "language_info": {
   "codemirror_mode": {
    "name": "ipython",
    "version": 3
   },
   "file_extension": ".py",
   "mimetype": "text/x-python",
   "name": "python",
   "nbconvert_exporter": "python",
   "pygments_lexer": "ipython3",
   "version": "3.10.12"
  }
 },
 "nbformat": 4,
 "nbformat_minor": 4
}
