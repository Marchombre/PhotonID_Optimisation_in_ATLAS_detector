{
 "cells": [
  {
   "cell_type": "markdown",
   "metadata": {},
   "source": [
    "# Photon ID Run 2 BDT classification"
   ]
  },
  {
   "cell_type": "code",
   "execution_count": 1,
   "metadata": {},
   "outputs": [],
   "source": [
    "import numpy as np\n",
    "import pandas as pd\n",
    "import pickle\n",
    "import joblib\n",
    "\n",
    "import matplotlib as mpl\n",
    "import matplotlib.pyplot as plt\n",
    "plt.rcParams.update({'font.size': 12})\n",
    "import seaborn as sns\n",
    "\n",
    "import lightgbm as lgb\n",
    "from sklearn.model_selection import train_test_split\n",
    "from sklearn.metrics import RocCurveDisplay"
   ]
  },
  {
   "cell_type": "code",
   "execution_count": 2,
   "metadata": {},
   "outputs": [],
   "source": [
    "datadir = \"/home/chardong/y_identification/Venv/save_pkl/\"\n",
    "savedir = \"/home/chardong/y_identification/Venv/save_plots/Py8_yj_jj_train_skim30/\"\n",
    "\n",
    "#datadir = \"/eos/user/m/mdelmast/Data/EGamma/PhotonID/Run2/\""
   ]
  },
  {
   "cell_type": "code",
   "execution_count": 3,
   "metadata": {},
   "outputs": [],
   "source": [
    "#df = pd.read_pickle(datadir+\"Py8_yj_jj_mc16ade_pd122_train_w.pkl\")\n",
    "#df = pd.read_pickle(datadir+\"Py8_yj_jj_mc16ade_pd122_train_w_skim.pkl\")\n",
    "#df = pd.read_pickle(datadir+\"Py8_yj_jj_mc16ade_pd122_train_w_skim_50.pkl\")\n",
    "df = pd.read_pickle(datadir+\"RAW_data/Py8_yj_jj_mc16ade_pd122_train_w_skim_30.pkl\")"
   ]
  },
  {
   "cell_type": "code",
   "execution_count": 4,
   "metadata": {},
   "outputs": [
    {
     "data": {
      "text/html": [
       "<div>\n",
       "<style scoped>\n",
       "    .dataframe tbody tr th:only-of-type {\n",
       "        vertical-align: middle;\n",
       "    }\n",
       "\n",
       "    .dataframe tbody tr th {\n",
       "        vertical-align: top;\n",
       "    }\n",
       "\n",
       "    .dataframe thead th {\n",
       "        text-align: right;\n",
       "    }\n",
       "</style>\n",
       "<table border=\"1\" class=\"dataframe\">\n",
       "  <thead>\n",
       "    <tr style=\"text-align: right;\">\n",
       "      <th></th>\n",
       "      <th>y_Reta</th>\n",
       "      <th>y_Rphi</th>\n",
       "      <th>y_weta2</th>\n",
       "      <th>y_fracs1</th>\n",
       "      <th>y_weta1</th>\n",
       "      <th>y_wtots1</th>\n",
       "      <th>y_Rhad</th>\n",
       "      <th>y_Rhad1</th>\n",
       "      <th>y_Eratio</th>\n",
       "      <th>y_deltae</th>\n",
       "      <th>...</th>\n",
       "      <th>y_pt</th>\n",
       "      <th>y_eta</th>\n",
       "      <th>y_phi</th>\n",
       "      <th>evt_mu</th>\n",
       "      <th>y_IsTight</th>\n",
       "      <th>y_IsLoose</th>\n",
       "      <th>y_truth_pt</th>\n",
       "      <th>y_truth_eta</th>\n",
       "      <th>weight</th>\n",
       "      <th>truth_label</th>\n",
       "    </tr>\n",
       "  </thead>\n",
       "  <tbody>\n",
       "    <tr>\n",
       "      <th>32567178</th>\n",
       "      <td>0.976772</td>\n",
       "      <td>0.986029</td>\n",
       "      <td>0.008603</td>\n",
       "      <td>0.215509</td>\n",
       "      <td>0.574328</td>\n",
       "      <td>2.513235</td>\n",
       "      <td>0.003049</td>\n",
       "      <td>0.003494</td>\n",
       "      <td>0.885819</td>\n",
       "      <td>5.736908</td>\n",
       "      <td>...</td>\n",
       "      <td>142.612122</td>\n",
       "      <td>0.635589</td>\n",
       "      <td>2.903673</td>\n",
       "      <td>46.5</td>\n",
       "      <td>True</td>\n",
       "      <td>True</td>\n",
       "      <td>140.036636</td>\n",
       "      <td>0.635112</td>\n",
       "      <td>3.236591</td>\n",
       "      <td>1.0</td>\n",
       "    </tr>\n",
       "    <tr>\n",
       "      <th>30571405</th>\n",
       "      <td>0.953056</td>\n",
       "      <td>0.965354</td>\n",
       "      <td>0.009983</td>\n",
       "      <td>0.281922</td>\n",
       "      <td>0.663873</td>\n",
       "      <td>2.277502</td>\n",
       "      <td>-0.000054</td>\n",
       "      <td>-0.000830</td>\n",
       "      <td>0.993126</td>\n",
       "      <td>36.003273</td>\n",
       "      <td>...</td>\n",
       "      <td>147.476898</td>\n",
       "      <td>1.265382</td>\n",
       "      <td>-1.025224</td>\n",
       "      <td>43.5</td>\n",
       "      <td>True</td>\n",
       "      <td>True</td>\n",
       "      <td>150.216537</td>\n",
       "      <td>1.265649</td>\n",
       "      <td>3.840031</td>\n",
       "      <td>1.0</td>\n",
       "    </tr>\n",
       "    <tr>\n",
       "      <th>12717653</th>\n",
       "      <td>0.957415</td>\n",
       "      <td>0.779845</td>\n",
       "      <td>0.009942</td>\n",
       "      <td>0.299277</td>\n",
       "      <td>0.611491</td>\n",
       "      <td>2.026455</td>\n",
       "      <td>0.000606</td>\n",
       "      <td>-0.000677</td>\n",
       "      <td>0.960725</td>\n",
       "      <td>61.969635</td>\n",
       "      <td>...</td>\n",
       "      <td>57.505829</td>\n",
       "      <td>-0.752667</td>\n",
       "      <td>-2.275640</td>\n",
       "      <td>22.5</td>\n",
       "      <td>True</td>\n",
       "      <td>True</td>\n",
       "      <td>56.256836</td>\n",
       "      <td>-0.753302</td>\n",
       "      <td>148.330020</td>\n",
       "      <td>1.0</td>\n",
       "    </tr>\n",
       "    <tr>\n",
       "      <th>34705749</th>\n",
       "      <td>0.956207</td>\n",
       "      <td>0.957556</td>\n",
       "      <td>0.010389</td>\n",
       "      <td>0.280299</td>\n",
       "      <td>0.646524</td>\n",
       "      <td>2.207805</td>\n",
       "      <td>-0.000503</td>\n",
       "      <td>0.002520</td>\n",
       "      <td>0.993375</td>\n",
       "      <td>166.006592</td>\n",
       "      <td>...</td>\n",
       "      <td>310.122559</td>\n",
       "      <td>1.650223</td>\n",
       "      <td>-0.126305</td>\n",
       "      <td>31.5</td>\n",
       "      <td>True</td>\n",
       "      <td>True</td>\n",
       "      <td>318.032928</td>\n",
       "      <td>1.649813</td>\n",
       "      <td>0.327451</td>\n",
       "      <td>1.0</td>\n",
       "    </tr>\n",
       "    <tr>\n",
       "      <th>33543598</th>\n",
       "      <td>0.963815</td>\n",
       "      <td>0.983650</td>\n",
       "      <td>0.009125</td>\n",
       "      <td>0.183293</td>\n",
       "      <td>0.555536</td>\n",
       "      <td>2.020921</td>\n",
       "      <td>0.001133</td>\n",
       "      <td>0.000105</td>\n",
       "      <td>0.973434</td>\n",
       "      <td>37.050293</td>\n",
       "      <td>...</td>\n",
       "      <td>285.942383</td>\n",
       "      <td>-0.579351</td>\n",
       "      <td>-0.296943</td>\n",
       "      <td>34.5</td>\n",
       "      <td>True</td>\n",
       "      <td>True</td>\n",
       "      <td>283.473541</td>\n",
       "      <td>-0.579254</td>\n",
       "      <td>0.225641</td>\n",
       "      <td>1.0</td>\n",
       "    </tr>\n",
       "  </tbody>\n",
       "</table>\n",
       "<p>5 rows × 22 columns</p>\n",
       "</div>"
      ],
      "text/plain": [
       "            y_Reta    y_Rphi   y_weta2  y_fracs1   y_weta1  y_wtots1  \\\n",
       "32567178  0.976772  0.986029  0.008603  0.215509  0.574328  2.513235   \n",
       "30571405  0.953056  0.965354  0.009983  0.281922  0.663873  2.277502   \n",
       "12717653  0.957415  0.779845  0.009942  0.299277  0.611491  2.026455   \n",
       "34705749  0.956207  0.957556  0.010389  0.280299  0.646524  2.207805   \n",
       "33543598  0.963815  0.983650  0.009125  0.183293  0.555536  2.020921   \n",
       "\n",
       "            y_Rhad   y_Rhad1  y_Eratio    y_deltae  ...        y_pt     y_eta  \\\n",
       "32567178  0.003049  0.003494  0.885819    5.736908  ...  142.612122  0.635589   \n",
       "30571405 -0.000054 -0.000830  0.993126   36.003273  ...  147.476898  1.265382   \n",
       "12717653  0.000606 -0.000677  0.960725   61.969635  ...   57.505829 -0.752667   \n",
       "34705749 -0.000503  0.002520  0.993375  166.006592  ...  310.122559  1.650223   \n",
       "33543598  0.001133  0.000105  0.973434   37.050293  ...  285.942383 -0.579351   \n",
       "\n",
       "             y_phi  evt_mu  y_IsTight  y_IsLoose  y_truth_pt  y_truth_eta  \\\n",
       "32567178  2.903673    46.5       True       True  140.036636     0.635112   \n",
       "30571405 -1.025224    43.5       True       True  150.216537     1.265649   \n",
       "12717653 -2.275640    22.5       True       True   56.256836    -0.753302   \n",
       "34705749 -0.126305    31.5       True       True  318.032928     1.649813   \n",
       "33543598 -0.296943    34.5       True       True  283.473541    -0.579254   \n",
       "\n",
       "              weight  truth_label  \n",
       "32567178    3.236591          1.0  \n",
       "30571405    3.840031          1.0  \n",
       "12717653  148.330020          1.0  \n",
       "34705749    0.327451          1.0  \n",
       "33543598    0.225641          1.0  \n",
       "\n",
       "[5 rows x 22 columns]"
      ]
     },
     "execution_count": 4,
     "metadata": {},
     "output_type": "execute_result"
    }
   ],
   "source": [
    "df.head()"
   ]
  },
  {
   "cell_type": "markdown",
   "metadata": {},
   "source": [
    "### Prepare inputs for training\n",
    "\n",
    "* `discriminating_var` containes the features used in the training\n",
    "* Weights are added Y column to be able to access them after splitting in train and test samples.\n",
    "* `test_size` represents the proportion of the dataset to include in the test split"
   ]
  },
  {
   "cell_type": "code",
   "execution_count": 5,
   "metadata": {},
   "outputs": [
    {
     "data": {
      "text/plain": [
       "['y_IsLoose', 'y_IsTight', 'truth_label', 'weight', 'evt_mu']"
      ]
     },
     "execution_count": 5,
     "metadata": {},
     "output_type": "execute_result"
    }
   ],
   "source": [
    "shower_shape_var = ['y_Reta',\n",
    "                    'y_Rphi',\n",
    "                    'y_weta2',\n",
    "                    'y_fracs1',\n",
    "                    'y_weta1',\n",
    "                    'y_wtots1',\n",
    "                    'y_Rhad',\n",
    "                    'y_Rhad1',\n",
    "                    'y_Eratio', \n",
    "                    'y_deltae']\n",
    "\n",
    "conv_var = [ 'y_convRadius', 'y_convType']\n",
    "\n",
    "kinem_var = ['y_pt', 'y_eta', 'y_phi']\n",
    "\n",
    "truth_var = ['y_truth_pt', 'y_truth_eta' ]\n",
    "\n",
    "discriminating_var = shower_shape_var + kinem_var + conv_var \n",
    "\n",
    "Y_var = list(set(df.columns)-set(discriminating_var+truth_var))\n",
    "Y_var"
   ]
  },
  {
   "cell_type": "markdown",
   "metadata": {},
   "source": [
    "### Draw shower shape distributions (example, inclusive)\n",
    "\n",
    "(Modify to plot all shower shapes, and also as function of convertions status and in bins of $\\eta$ and $\\p_T$ )"
   ]
  },
  {
   "cell_type": "code",
   "execution_count": 6,
   "metadata": {},
   "outputs": [
    {
     "data": {
      "image/png": "[encoded data removed]",
      "text/plain": [
       "<Figure size 1200x1000 with 4 Axes>"
      ]
     },
     "metadata": {},
     "output_type": "display_data"
    }
   ],
   "source": [
    "plt.rcParams.update({'font.size': 12})\n",
    "\n",
    "fig, axes = plt.subplots(2, 2, figsize = (12, 10))\n",
    "fig.tight_layout(pad = 5.0)\n",
    "\n",
    "def plotShowerShapeInclusive(ax,df,var='y_Rhad',varname=r'$R_{had}$',vmin=0,vmax=1,nbins=100):\n",
    "    bins = [vmin+d*(vmax-vmin)/nbins for d in range(nbins+1)]\n",
    "    _ = ax.hist( df[(df[\"truth_label\"]==0)][var], weights=df[(df[\"truth_label\"]==0)]['weight'], \n",
    "                histtype='stepfilled', bins=bins, log=True, density=True, alpha=0.5,\n",
    "                label = r'True $\\gamma$')\n",
    "    _ = ax.hist( df[(df[\"truth_label\"]==1)][var], weights=df[(df[\"truth_label\"]==1)]['weight'], \n",
    "                histtype='stepfilled', bins=bins, log=True, density=True, alpha=0.5, \n",
    "                label = r'True jets')\n",
    "    ax.set_xlabel(varname)\n",
    "    ax.set_ylabel(\"Density\")\n",
    "    ax.legend()\n",
    "\n",
    "plotShowerShapeInclusive(axes[0][0], df, var='y_Rhad'  , varname=r'$R_{had}$'   , vmin=-3  ,vmax=30 , nbins=100)\n",
    "plotShowerShapeInclusive(axes[0][1], df, var='y_Rphi'  , varname=r'$R_{\\phi}$'  , vmin=0   ,vmax=1.1, nbins=110)\n",
    "plotShowerShapeInclusive(axes[1][0], df, var='y_fracs1', varname=r'$frac_{S_1}$', vmin=-0.1,vmax=4.4, nbins=110)\n",
    "plotShowerShapeInclusive(axes[1][1], df, var='y_Eratio', varname=r'$E_{ratio}$' , vmin=0   ,vmax=1.1, nbins=110)\n",
    "\n",
    "plt.savefig(savedir+'shower_shape.pdf')"
   ]
  },
  {
   "cell_type": "markdown",
   "metadata": {},
   "source": [
    "### Save X and Y datasets with relevant variables\n",
    "\n",
    "* Adding truth variables to X for performance studies, will be removed after splitting"
   ]
  },
  {
   "cell_type": "code",
   "execution_count": 7,
   "metadata": {},
   "outputs": [],
   "source": [
    "X = df[discriminating_var+truth_var]\n",
    "Y = df[Y_var]"
   ]
  },
  {
   "cell_type": "markdown",
   "metadata": {},
   "source": [
    "### Split dataset into train, validation and test samples\n",
    "\n",
    "* Test dataset size: 20 %"
   ]
  },
  {
   "cell_type": "code",
   "execution_count": 8,
   "metadata": {},
   "outputs": [],
   "source": [
    "x_train_val, x_test, y_train_val, y_test = train_test_split(X, Y, test_size=0.2, random_state=42)"
   ]
  },
  {
   "cell_type": "markdown",
   "metadata": {},
   "source": [
    "### Split train + validation set into train and validation\n",
    "\n",
    "* Train and validation are respectively 80% and 20% of 80% of total\n",
    "* Save weights in separate arrays"
   ]
  },
  {
   "cell_type": "code",
   "execution_count": 9,
   "metadata": {},
   "outputs": [],
   "source": [
    "x_train, x_val, y_train, y_val = train_test_split(x_train_val, y_train_val, test_size=0.2, random_state=42)"
   ]
  },
  {
   "cell_type": "code",
   "execution_count": 10,
   "metadata": {},
   "outputs": [],
   "source": [
    "weight_train = y_train[\"weight\"]\n",
    "weight_val   = y_val  [\"weight\"]\n",
    "weight_test  = y_test [\"weight\"]"
   ]
  },
  {
   "cell_type": "code",
   "execution_count": 11,
   "metadata": {},
   "outputs": [],
   "source": [
    "Y_var_drop = list(set(Y_var)-{\"truth_label\"})\n",
    "\n",
    "othervars_train = y_train[Y_var_drop]\n",
    "othervars_val   = y_val  [Y_var_drop]\n",
    "othervars_test  = y_test [Y_var_drop]\n",
    "\n",
    "y_train = y_train.drop(Y_var_drop, axis=1)\n",
    "y_test  = y_test .drop(Y_var_drop, axis=1)\n",
    "y_val   = y_val  .drop(Y_var_drop, axis=1)"
   ]
  },
  {
   "cell_type": "code",
   "execution_count": 12,
   "metadata": {},
   "outputs": [],
   "source": [
    "truth_train = x_train[truth_var]\n",
    "truth_val   = x_val  [truth_var]\n",
    "truth_test  = x_test [truth_var]\n",
    "\n",
    "x_train = x_train.drop(truth_var, axis=1)\n",
    "x_test  = x_test .drop(truth_var, axis=1)\n",
    "x_val   = x_val  .drop(truth_var, axis=1)"
   ]
  },
  {
   "cell_type": "code",
   "execution_count": 13,
   "metadata": {},
   "outputs": [
    {
     "name": "stdout",
     "output_type": "stream",
     "text": [
      "TRAINING   size = 11182003\n",
      "TEST       size =  3494377\n",
      "VALIDATION size =  2795501\n"
     ]
    }
   ],
   "source": [
    "print('TRAINING   size = {:8d}'.format(len(y_train)))\n",
    "print('TEST       size = {:8d}'.format(len(y_test)))\n",
    "print('VALIDATION size = {:8d}'.format(len(y_val)))"
   ]
  },
  {
   "cell_type": "code",
   "execution_count": 14,
   "metadata": {},
   "outputs": [
    {
     "name": "stdout",
     "output_type": "stream",
     "text": [
      "Number of signal events in test sample     : 2338410\n",
      "Number of background events in test sample : 1155967\n"
     ]
    }
   ],
   "source": [
    "print('Number of signal events in test sample     :', len(y_test.query('truth_label == True')))\n",
    "print('Number of background events in test sample :', len(y_test.query('truth_label == False')))"
   ]
  },
  {
   "cell_type": "code",
   "execution_count": 15,
   "metadata": {},
   "outputs": [],
   "source": [
    "y_train = np.ravel(y_train)\n",
    "y_val   = np.ravel(y_val)"
   ]
  },
  {
   "cell_type": "markdown",
   "metadata": {},
   "source": [
    "### BDT training"
   ]
  },
  {
   "cell_type": "code",
   "execution_count": 16,
   "metadata": {},
   "outputs": [],
   "source": [
    "model = lgb.LGBMClassifier(learning_rate  = 0.05,  \n",
    "                           num_leaves     = 35,\n",
    "                           max_depth      = -5,\n",
    "                           objective      = 'xentropy',\n",
    "                           n_estimators   = 1000,\n",
    "                           force_col_wise = True)\n",
    "\n",
    "cb = [lgb.early_stopping(stopping_rounds=10),lgb.log_evaluation(30)]"
   ]
  },
  {
   "cell_type": "code",
   "execution_count": null,
   "metadata": {},
   "outputs": [],
   "source": [
    "model.fit(x_train, y_train,\n",
    "          sample_weight = weight_train,\n",
    "          eval_set = [(x_train, y_train), (x_val, y_val)],  \n",
    "          eval_names = ['Train', 'Validation'],\n",
    "          eval_metric = 'xentropy', \n",
    "          eval_sample_weight = [weight_train, weight_val],\n",
    "          callbacks=cb)"
   ]
  },
  {
   "cell_type": "code",
   "execution_count": null,
   "metadata": {},
   "outputs": [],
   "source": [
    "# Saving model to file\n",
    "#joblib.dump(model,'models/LGBMClassifier_model_hard_no_loose_lr0.05_35_skim50.pkl')\n",
    "joblib.dump(model,'models/LGBMClassifier_model_hard_no_loose_lr0.05_35_skim30.pkl')"
   ]
  },
  {
   "cell_type": "code",
   "execution_count": null,
   "metadata": {},
   "outputs": [],
   "source": [
    "# Loading model from file\n",
    "#model = joblib.load('models/LGBMClassifier_model_hard_no_loose_lr0.05_35_skim50.pkl')\n",
    "model = joblib.load('models/LGBMClassifier_model_hard_no_loose_lr0.05_35_skim30.pkl')"
   ]
  },
  {
   "cell_type": "markdown",
   "metadata": {},
   "source": [
    "### Feature importance"
   ]
  },
  {
   "cell_type": "code",
   "execution_count": null,
   "metadata": {},
   "outputs": [],
   "source": [
    "# Cross-entropy evolution during training\n",
    "lgb.plot_metric(model, figsize=(8,6))\n",
    "plt.title('Metric during training')\n",
    "\n",
    "#plt.savefig('plots/metric_lr_0.09_35_skim50.pdf')\n",
    "plt.savefig('plots/metric_lr_0.09_35_skim30.pdf')\n",
    "plt.show()"
   ]
  },
  {
   "cell_type": "code",
   "execution_count": null,
   "metadata": {},
   "outputs": [],
   "source": [
    "# Feature importance: Numbers of times the feature is used in a model\n",
    "lgb.plot_importance(model, importance_type='split', figsize=(8,6))\n",
    "plt.title('Feature importance: split')\n",
    "\n",
    "#plt.savefig('plots/feature_split_lr_0.09_35_skim50.pdf')\n",
    "plt.savefig('plots/feature_split_lr_0.09_35_skim30.pdf')\n",
    "plt.show()"
   ]
  },
  {
   "cell_type": "code",
   "execution_count": null,
   "metadata": {},
   "outputs": [],
   "source": [
    "lgb.plot_importance(model, importance_type='gain', precision = None, figsize=(8,6))\n",
    "plt.title('Feature importance: gain')\n",
    "\n",
    "#plt.savefig('plots/feature_gain_lr_0.09_35_skim50.pdf')\n",
    "plt.savefig('plots/feature_gain_lr_0.09_35_skim30.pdf')\n",
    "plt.show()"
   ]
  },
  {
   "cell_type": "markdown",
   "metadata": {},
   "source": [
    "### Make predictions for test sample, add signal and background scores"
   ]
  },
  {
   "cell_type": "code",
   "execution_count": null,
   "metadata": {},
   "outputs": [],
   "source": [
    "y_pred_prob_test = model.predict_proba(x_test)\n",
    "\n",
    "df_pred_test = pd.DataFrame(y_pred_prob_test, columns=[\"background_score\", \"signal_score\"])\n",
    "df_pred_test.reset_index(inplace=True, drop=True)"
   ]
  },
  {
   "cell_type": "code",
   "execution_count": null,
   "metadata": {},
   "outputs": [],
   "source": [
    "y_test = pd.DataFrame(y_test)\n",
    "y_test.reset_index(inplace=True, drop=True)\n",
    "\n",
    "truth_test.reset_index(inplace=True, drop=True)\n",
    "\n",
    "othervars_test.reset_index(inplace=True, drop=True)\n",
    "\n",
    "df_test_vars = x_test[kinem_var + conv_var]\n",
    "df_test_vars.reset_index(inplace=True, drop=True)\n",
    "\n",
    "weight_test = pd.DataFrame(weight_test)\n",
    "weight_test.reset_index(inplace=True, drop=True)"
   ]
  },
  {
   "cell_type": "code",
   "execution_count": null,
   "metadata": {},
   "outputs": [],
   "source": [
    "df_test = pd.concat([df_test_vars,\n",
    "                     weight_test,\n",
    "                     y_test,\n",
    "                     othervars_test,\n",
    "                     truth_test,\n",
    "                     df_pred_test,\n",
    "                    ], axis=1, join='inner', ignore_index=True)"
   ]
  },
  {
   "cell_type": "code",
   "execution_count": null,
   "metadata": {},
   "outputs": [],
   "source": [
    "col_names = list(df_test_vars.columns) + \\\n",
    "            list(weight_test.columns) + \\\n",
    "            list(y_test.columns) + \\\n",
    "            list(othervars_test.columns) + \\\n",
    "            list(truth_test.columns) + \\\n",
    "            list(df_pred_test.columns)\n",
    "df_test.columns = col_names"
   ]
  },
  {
   "cell_type": "code",
   "execution_count": null,
   "metadata": {},
   "outputs": [],
   "source": [
    "df_test"
   ]
  },
  {
   "cell_type": "code",
   "execution_count": null,
   "metadata": {},
   "outputs": [],
   "source": [
    "#df_test.to_pickle(datadir+\"test_sample_hard_scattering_skim50.pkl\")\n",
    "df_test.to_pickle(datadir+\"test_sample_hard_scattering_skim30.pkl\")"
   ]
  },
  {
   "cell_type": "markdown",
   "metadata": {},
   "source": [
    "### BDT output\n",
    "\n",
    "The BDT output has two columns: for each event a score (probability) to belong to class 0 or class 1  (here they are called `background_class` and `signal_class` ) is assigned."
   ]
  },
  {
   "cell_type": "code",
   "execution_count": null,
   "metadata": {},
   "outputs": [],
   "source": [
    "fig, ax = plt.subplots(figsize=(8,6))\n",
    "\n",
    "plt.hist(df_test[(df_test[\"truth_label\"]==0 )][\"signal_score\"],\n",
    "         weights = df_test[(df_test[\"truth_label\"]==0 )][\"weight\"], \n",
    "         bins = 50, log = True, density = True, alpha=0.5, \n",
    "         histtype = 'stepfilled', label='Background', color = 'b')\n",
    "\n",
    "plt.hist(df_test[(df_test[\"truth_label\"]==1 )][\"signal_score\"],\n",
    "         weights = df_test[(df_test[\"truth_label\"]==1 )][\"weight\"], \n",
    "         bins = 50, log = True, density = True, alpha=0.5,\n",
    "         histtype = 'stepfilled', label='Signal', color = 'orange')\n",
    "\n",
    "plt.ylabel('Frequency', fontsize = 14)\n",
    "\n",
    "plt.legend(loc='upper center', fontsize = 14)\n",
    "plt.gca().set(xlabel=\"LightGBM score (probability to be assigned to the signal class)\")\n",
    "\n",
    "#plt.savefig('plots/score_lr_0.09_35_skim50.pdf')\n",
    "plt.savefig('plots/score_lr_0.09_35_skim30.pdf')\n",
    "plt.show()"
   ]
  },
  {
   "cell_type": "markdown",
   "metadata": {},
   "source": [
    "### ROC curve\n",
    "\n",
    "1) compute signal and background efficiencies for \"official\" cut-based Tight selection"
   ]
  },
  {
   "cell_type": "code",
   "execution_count": null,
   "metadata": {},
   "outputs": [],
   "source": [
    "s_tot = sum( df_test[(df_test[\"truth_label\"] == 1)][\"weight\"] )\n",
    "s_selected = sum( df_test[(df_test[\"truth_label\"] == 1) & (df_test['y_IsTight'].values)][\"weight\"] )\n",
    "s_eff = s_selected / s_tot\n",
    "\n",
    "b_tot = sum( df_test[(df_test[\"truth_label\"] == 0)][\"weight\"] )\n",
    "b_selected = sum( df_test[(df_test[\"truth_label\"] == 0) & (df_test['y_IsTight'].values)][\"weight\"] )\n",
    "b_eff = b_selected / b_tot"
   ]
  },
  {
   "cell_type": "code",
   "execution_count": null,
   "metadata": {},
   "outputs": [],
   "source": [
    "print(f\"Number of signal events                   = {s_tot:12.0f}\")\n",
    "print(f\"Number of signal events passing Tight     = {s_selected:12.0f}\")\n",
    "print(f\"Signal efficiency of cut-based Tight      = {100.*s_selected/s_tot:11.2f}%\" )\n",
    "print()\n",
    "print(f\"Number of background events               = {b_tot:12.0f}\")\n",
    "print(f\"Number of background events passing Tight = {b_selected:12.0f}\")\n",
    "print(f\"Background efficiency of cut-based Tight  = {100.*b_selected/b_tot:11.2f}%\" )\n",
    "print(f\"Background rejection of cut-based Tight   = {100.*(1-b_selected/b_tot):11.2f}%\" )"
   ]
  },
  {
   "cell_type": "markdown",
   "metadata": {},
   "source": [
    "2) Plot ROC curve of trained BDT with weighted events, compare to current cut-based Tight selection "
   ]
  },
  {
   "cell_type": "code",
   "execution_count": null,
   "metadata": {},
   "outputs": [],
   "source": [
    "fig, ax = plt.subplots(figsize=(8,6))\n",
    "\n",
    "mod_disp = RocCurveDisplay.from_estimator(model, x_test, y_test, sample_weight=weight_test, \n",
    "                                          label=\"BDT\", ax=ax) \n",
    "\n",
    "plt.plot(b_eff, s_eff, marker=\"x\", markersize=10, color=\"red\", label = 'Cut-based Tight ID')\n",
    "\n",
    "plt.xlabel('Background efficiency')\n",
    "plt.ylabel('Signal efficiency')\n",
    "\n",
    "#plt.xlim([0.0, 0.15])\n",
    "#plt.ylim([0.65, 1.0])\n",
    "#plt.title('BDT ROC curve - zoom')\n",
    "\n",
    "plt.title('BDT ROC curve')\n",
    "plt.legend()\n",
    "\n",
    "plt.savefig('plots/ROC_lr_0.05_35_weight_skim50.pdf')\n",
    "plt.show()"
   ]
  },
  {
   "cell_type": "markdown",
   "metadata": {},
   "source": [
    "### Correlation between input variables"
   ]
  },
  {
   "cell_type": "code",
   "execution_count": null,
   "metadata": {
    "scrolled": true
   },
   "outputs": [],
   "source": [
    "#x_train_sel = x_train.query('y_wtots1 >- 800 & y_weta1 > -800')\n",
    "#x_train_sel.reset_index(inplace=True, drop=True)"
   ]
  },
  {
   "cell_type": "code",
   "execution_count": null,
   "metadata": {},
   "outputs": [],
   "source": [
    "corr = x_train.corr()"
   ]
  },
  {
   "cell_type": "code",
   "execution_count": null,
   "metadata": {},
   "outputs": [],
   "source": [
    "fig, ax = plt.subplots(1,1,figsize=(10,10))\n",
    "plt.rcParams.update({'font.size': 10})\n",
    "\n",
    "sns.heatmap(corr, vmin=-1, vmax=1, cmap=\"coolwarm\", ax=ax, annot=True, fmt=\".2f\")\n",
    "\n",
    "plt.tight_layout()\n",
    "plt.savefig('plots/correlations_train_sample_all.pdf')\n",
    "plt.show()"
   ]
  },
  {
   "cell_type": "code",
   "execution_count": null,
   "metadata": {},
   "outputs": [],
   "source": [
    "#corr_sig = x_train[(y_train==1)].corr()\n",
    "#corr_bkg = x_train[(y_train==0)].corr()"
   ]
  },
  {
   "cell_type": "code",
   "execution_count": null,
   "metadata": {},
   "outputs": [],
   "source": []
  }
 ],
 "metadata": {
  "@webio": {
   "lastCommId": null,
   "lastKernelId": null
  },
  "kernelspec": {
   "display_name": "Python 3 (ipykernel)",
   "language": "python",
   "name": "python3"
  },
  "language_info": {
   "codemirror_mode": {
    "name": "ipython",
    "version": 3
   },
   "file_extension": ".py",
   "mimetype": "text/x-python",
   "name": "python",
   "nbconvert_exporter": "python",
   "pygments_lexer": "ipython3",
   "version": "3.10.12"
  }
 },
 "nbformat": 4,
 "nbformat_minor": 4
}
