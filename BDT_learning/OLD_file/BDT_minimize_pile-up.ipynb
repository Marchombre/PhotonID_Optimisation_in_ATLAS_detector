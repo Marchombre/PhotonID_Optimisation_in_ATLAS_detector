{
 "cells": [
  {
   "cell_type": "code",
   "execution_count": 1,
   "id": "15d57575",
   "metadata": {},
   "outputs": [],
   "source": [
    "import uproot  # Pour lire des fichiers ROOT utilisés en physique des particules.\n",
    "import numpy as np  # Bibliothèque pour le calcul scientifique.\n",
    "import pandas as pd  # Bibliothèque pour la manipulation et l'analyse de données.\n",
    "import pickle  # Module pour sérialiser et désérialiser des objets Python.\n",
    "\n",
    "import matplotlib as mpl  # Module de base pour la création de visualisations.\n",
    "import matplotlib.pyplot as plt  # Module spécifique pour tracer des graphiques.\n",
    "plt.rcParams.update({'font.size': 12})  # Configurer la taille de police globale pour les plots.\n",
    "\n",
    "# import mplhep as hep  # Bibliothèque pour les styles spécifiques à la physique des particules.\n",
    "# hep.style.use(\"ATLAS\")  # Utiliser un style prédéfini pour les plots.\n",
    "\n",
    "import lightgbm as lgb  # Bibliothèque pour le Gradient Boosting Machine.\n",
    "from sklearn.model_selection import train_test_split  # Pour diviser les données en ensembles de formation et de test.\n",
    "from sklearn.metrics import RocCurveDisplay  # Pour afficher la courbe ROC.\n",
    "\n",
    "import joblib  # Pour la sérialisation et la désérialisation de modèles scikit-learn.\n",
    "\n",
    "import seaborn as sns  # Bibliothèque de visualisation de données basée sur matplotlib.\n"
   ]
  },
  {
   "cell_type": "code",
   "execution_count": 2,
   "id": "51f3aeea",
   "metadata": {},
   "outputs": [],
   "source": [
    "datadir = \"/home/chardong/y_identification/Venv/save_pkl/\""
   ]
  },
  {
   "cell_type": "code",
   "execution_count": 3,
   "id": "9795e05c",
   "metadata": {},
   "outputs": [],
   "source": [
    "savedir = \"/home/chardong/y_identification/work/save_plots/\""
   ]
  },
  {
   "cell_type": "code",
   "execution_count": 4,
   "id": "036f791b",
   "metadata": {},
   "outputs": [],
   "source": [
    "savedirmodel = \"/home/chardong/y_identification/work/BDT_model/LGBMClassifier_model_hard_no_loose_lr0.05_35.pkl\""
   ]
  },
  {
   "cell_type": "code",
   "execution_count": 5,
   "id": "5a80087a",
   "metadata": {},
   "outputs": [],
   "source": [
    "savedirmodelEvtmu = \"/home/chardong/y_identification/work/BDT_model/LGBMClassifier_model_hard_no_loose_lr0.05_35AddEvtmu.pkl\""
   ]
  },
  {
   "cell_type": "code",
   "execution_count": 6,
   "id": "3e89f2d2",
   "metadata": {},
   "outputs": [],
   "source": [
    "totald = pd.read_pickle(datadir+\"Py8_yj_jj_mc16ade_pd122_train_w_skim_50.pkl\")"
   ]
  },
  {
   "cell_type": "code",
   "execution_count": 7,
   "id": "f562a679",
   "metadata": {},
   "outputs": [
    {
     "name": "stdout",
     "output_type": "stream",
     "text": [
      "Index(['y_Reta', 'y_Rphi', 'y_weta2', 'y_fracs1', 'y_weta1', 'y_wtots1',\n",
      "       'y_Rhad', 'y_Rhad1', 'y_Eratio', 'y_deltae', 'y_convRadius',\n",
      "       'y_convType', 'y_pt', 'y_eta', 'y_phi', 'evt_mu', 'y_IsTight',\n",
      "       'y_IsLoose', 'y_truth_pt', 'y_truth_eta', 'weight', 'truth_label'],\n",
      "      dtype='object')\n"
     ]
    }
   ],
   "source": [
    "print(totald.columns)"
   ]
  },
  {
   "cell_type": "code",
   "execution_count": 8,
   "id": "c952e2b8",
   "metadata": {},
   "outputs": [
    {
     "data": {
      "text/plain": [
       "['y_Reta',\n",
       " 'y_Rphi',\n",
       " 'y_weta2',\n",
       " 'y_fracs1',\n",
       " 'y_weta1',\n",
       " 'y_wtots1',\n",
       " 'y_Rhad',\n",
       " 'y_Rhad1',\n",
       " 'y_Eratio',\n",
       " 'y_deltae',\n",
       " 'y_pt',\n",
       " 'y_eta',\n",
       " 'y_phi',\n",
       " 'y_convRadius',\n",
       " 'y_convType',\n",
       " 'evt_mu']"
      ]
     },
     "execution_count": 8,
     "metadata": {},
     "output_type": "execute_result"
    }
   ],
   "source": [
    "shower_shape_var = ['y_Reta',    \n",
    "                    'y_Rphi',\n",
    "                    'y_weta2',\n",
    "                    'y_fracs1',\n",
    "                    'y_weta1',\n",
    "                    'y_wtots1',\n",
    "                    'y_Rhad',\n",
    "                    'y_Rhad1',\n",
    "                    'y_Eratio', \n",
    "                    'y_deltae']\n",
    "\n",
    "prcpl_vx = ['evt_mu']       #Principal vertex parametrs, feel free to rocket me if I'm wrong\n",
    "\n",
    "conv_var = [ 'y_convRadius', 'y_convType'] # y converti ou non conversion des photons en électrons\n",
    "\n",
    "kinem_var = ['y_pt', 'y_eta', 'y_phi'] # Variables cinématiques \n",
    "                                      # moment transversal (pt), la pseudo-rapidité (eta) et l'angle azimutal (phi)\n",
    "\n",
    "\n",
    "discriminating_var = shower_shape_var + kinem_var + conv_var + prcpl_vx\n",
    "discriminating_var # Variables discriminantes qui vont permetre une selection judicieuse sur le Bckg et sur le signale\n",
    "                   # pour entraîner le modèle de machine learning"
   ]
  },
  {
   "cell_type": "markdown",
   "id": "7df0581a",
   "metadata": {},
   "source": [
    "# Sélection et manipulation des données\n",
    "\n",
    "Préparation des ensembles de données pour l'entraînement, la validation et les tests, y compris la sélection des caractéristiques et des cibles"
   ]
  },
  {
   "cell_type": "markdown",
   "id": "c9f85a4a",
   "metadata": {},
   "source": [
    "# Minimiser l'impact du pile-up en isolant les signaux provenant  du vertex principal associé à la collision"
   ]
  },
  {
   "cell_type": "code",
   "execution_count": 9,
   "id": "8c8be05d",
   "metadata": {},
   "outputs": [
    {
     "data": {
      "text/plain": [
       "['y_Reta',\n",
       " 'y_Rphi',\n",
       " 'y_weta2',\n",
       " 'y_fracs1',\n",
       " 'y_weta1',\n",
       " 'y_wtots1',\n",
       " 'y_Rhad',\n",
       " 'y_Rhad1',\n",
       " 'y_Eratio',\n",
       " 'y_deltae',\n",
       " 'y_pt',\n",
       " 'y_eta',\n",
       " 'y_phi',\n",
       " 'y_convRadius',\n",
       " 'y_convType',\n",
       " 'evt_mu']"
      ]
     },
     "execution_count": 9,
     "metadata": {},
     "output_type": "execute_result"
    }
   ],
   "source": [
    "discriminating_var"
   ]
  },
  {
   "cell_type": "markdown",
   "id": "77451e45",
   "metadata": {},
   "source": [
    "# Noter que evt_mu doit être utiliser dans le BDT pour vérifier blablabla"
   ]
  },
  {
   "cell_type": "code",
   "execution_count": 10,
   "id": "8574b901",
   "metadata": {},
   "outputs": [
    {
     "data": {
      "text/plain": [
       "{'truth_label',\n",
       " 'weight',\n",
       " 'y_IsLoose',\n",
       " 'y_IsTight',\n",
       " 'y_truth_eta',\n",
       " 'y_truth_pt'}"
      ]
     },
     "execution_count": 10,
     "metadata": {},
     "output_type": "execute_result"
    }
   ],
   "source": [
    "set(totald.columns)-set(discriminating_var)"
   ]
  },
  {
   "cell_type": "code",
   "execution_count": 11,
   "id": "d4b94c27",
   "metadata": {},
   "outputs": [
    {
     "data": {
      "text/plain": [
       "['truth_label', 'weight', 'y_IsTight', 'y_IsLoose', 'evt_mu']"
      ]
     },
     "execution_count": 11,
     "metadata": {},
     "output_type": "execute_result"
    }
   ],
   "source": [
    "Y_var = [\"truth_label\",\n",
    "         \"weight\",\n",
    "         'y_IsTight',  # Base-cut utilisé par le CERN (coupure rectangulaire pas ouf)\n",
    "         'y_IsLoose',\n",
    "         #'y_iso_FixedCutLoose',\n",
    "         #'y_iso_FixedCutTight',\n",
    "         #'y_topoetcone20', \n",
    "         #'y_topoetcone40',\n",
    "         'evt_mu',                   #pil-up effect \n",
    "         #'y_jmin_dr'\n",
    "        ]\n",
    "\n",
    "Y_var"
   ]
  },
  {
   "cell_type": "markdown",
   "id": "0203bcc6",
   "metadata": {},
   "source": [
    "# Step 0: Save X and Y datasets with relevant variables\n",
    "    Adding truth variables to X for performance studies, will be removed after splitting"
   ]
  },
  {
   "cell_type": "code",
   "execution_count": 12,
   "id": "e3c10ffb",
   "metadata": {},
   "outputs": [],
   "source": [
    "#truth_var = ['y_truth_pt', 'y_truth_eta', 'y_truth_pdgId', 'y_truth_mother_pdgId' ]\n",
    "\n",
    "truth_var = ['y_truth_pt', 'y_truth_eta' ]     #Données générées par simulation qui représentent le \"vrai\" \n",
    "                                            #état des particules avant toute interaction avec le détecteur"
   ]
  },
  {
   "cell_type": "markdown",
   "id": "a1334e61-f2d3-4f3a-aeed-8ea721dba4de",
   "metadata": {},
   "source": [
    "X contient les variables prédictives (caractéristiques), incluant à la fois les variables discriminantes et les variables de vérité pour l'analyse et l'entraînement. \n",
    "\n",
    "Y est constitué des variables cibles (Y_var), des labels de classification (signal vs background), des poids pour chaque événement, et d'autres indicateurs binaires relatifs à la qualité de la détection ou à des critères spécifiques (comme des isolations)."
   ]
  },
  {
   "cell_type": "code",
   "execution_count": 13,
   "id": "16bf71c3",
   "metadata": {
    "scrolled": true
   },
   "outputs": [],
   "source": [
    "X = totald[discriminating_var + truth_var]                #Toute les variables indépendantes du jeu de données.\n",
    "\n",
    "Y = totald[Y_var]                            # Variables cibles (dépendante), c'est un \"vecteur\" \n",
    "                                             # contenant les valeurs de sortie que le modèle essaie de prédire."
   ]
  },
  {
   "cell_type": "code",
   "execution_count": 14,
   "id": "f1645956",
   "metadata": {},
   "outputs": [
    {
     "data": {
      "text/html": [
       "<div>\n",
       "<style scoped>\n",
       "    .dataframe tbody tr th:only-of-type {\n",
       "        vertical-align: middle;\n",
       "    }\n",
       "\n",
       "    .dataframe tbody tr th {\n",
       "        vertical-align: top;\n",
       "    }\n",
       "\n",
       "    .dataframe thead th {\n",
       "        text-align: right;\n",
       "    }\n",
       "</style>\n",
       "<table border=\"1\" class=\"dataframe\">\n",
       "  <thead>\n",
       "    <tr style=\"text-align: right;\">\n",
       "      <th></th>\n",
       "      <th>truth_label</th>\n",
       "      <th>weight</th>\n",
       "      <th>y_IsTight</th>\n",
       "      <th>y_IsLoose</th>\n",
       "      <th>evt_mu</th>\n",
       "    </tr>\n",
       "  </thead>\n",
       "  <tbody>\n",
       "    <tr>\n",
       "      <th>32567178</th>\n",
       "      <td>1.0</td>\n",
       "      <td>3.236591</td>\n",
       "      <td>True</td>\n",
       "      <td>True</td>\n",
       "      <td>46.50</td>\n",
       "    </tr>\n",
       "    <tr>\n",
       "      <th>30571405</th>\n",
       "      <td>1.0</td>\n",
       "      <td>3.840031</td>\n",
       "      <td>True</td>\n",
       "      <td>True</td>\n",
       "      <td>43.50</td>\n",
       "    </tr>\n",
       "    <tr>\n",
       "      <th>12717653</th>\n",
       "      <td>1.0</td>\n",
       "      <td>148.330020</td>\n",
       "      <td>True</td>\n",
       "      <td>True</td>\n",
       "      <td>22.50</td>\n",
       "    </tr>\n",
       "    <tr>\n",
       "      <th>34705749</th>\n",
       "      <td>1.0</td>\n",
       "      <td>0.327451</td>\n",
       "      <td>True</td>\n",
       "      <td>True</td>\n",
       "      <td>31.50</td>\n",
       "    </tr>\n",
       "    <tr>\n",
       "      <th>33543598</th>\n",
       "      <td>1.0</td>\n",
       "      <td>0.225641</td>\n",
       "      <td>True</td>\n",
       "      <td>True</td>\n",
       "      <td>34.50</td>\n",
       "    </tr>\n",
       "    <tr>\n",
       "      <th>...</th>\n",
       "      <td>...</td>\n",
       "      <td>...</td>\n",
       "      <td>...</td>\n",
       "      <td>...</td>\n",
       "      <td>...</td>\n",
       "    </tr>\n",
       "    <tr>\n",
       "      <th>2043028</th>\n",
       "      <td>0.0</td>\n",
       "      <td>1672.545717</td>\n",
       "      <td>False</td>\n",
       "      <td>False</td>\n",
       "      <td>29.49</td>\n",
       "    </tr>\n",
       "    <tr>\n",
       "      <th>10418728</th>\n",
       "      <td>0.0</td>\n",
       "      <td>203.115058</td>\n",
       "      <td>False</td>\n",
       "      <td>False</td>\n",
       "      <td>37.50</td>\n",
       "    </tr>\n",
       "    <tr>\n",
       "      <th>4572977</th>\n",
       "      <td>0.0</td>\n",
       "      <td>72.237902</td>\n",
       "      <td>False</td>\n",
       "      <td>False</td>\n",
       "      <td>35.50</td>\n",
       "    </tr>\n",
       "    <tr>\n",
       "      <th>14851847</th>\n",
       "      <td>0.0</td>\n",
       "      <td>43.090153</td>\n",
       "      <td>False</td>\n",
       "      <td>False</td>\n",
       "      <td>27.50</td>\n",
       "    </tr>\n",
       "    <tr>\n",
       "      <th>8883538</th>\n",
       "      <td>0.0</td>\n",
       "      <td>1380.775739</td>\n",
       "      <td>False</td>\n",
       "      <td>True</td>\n",
       "      <td>48.50</td>\n",
       "    </tr>\n",
       "  </tbody>\n",
       "</table>\n",
       "<p>17471881 rows × 5 columns</p>\n",
       "</div>"
      ],
      "text/plain": [
       "          truth_label       weight  y_IsTight  y_IsLoose  evt_mu\n",
       "32567178          1.0     3.236591       True       True   46.50\n",
       "30571405          1.0     3.840031       True       True   43.50\n",
       "12717653          1.0   148.330020       True       True   22.50\n",
       "34705749          1.0     0.327451       True       True   31.50\n",
       "33543598          1.0     0.225641       True       True   34.50\n",
       "...               ...          ...        ...        ...     ...\n",
       "2043028           0.0  1672.545717      False      False   29.49\n",
       "10418728          0.0   203.115058      False      False   37.50\n",
       "4572977           0.0    72.237902      False      False   35.50\n",
       "14851847          0.0    43.090153      False      False   27.50\n",
       "8883538           0.0  1380.775739      False       True   48.50\n",
       "\n",
       "[17471881 rows x 5 columns]"
      ]
     },
     "execution_count": 14,
     "metadata": {},
     "output_type": "execute_result"
    }
   ],
   "source": [
    "Y"
   ]
  },
  {
   "cell_type": "markdown",
   "id": "9f6c6e26",
   "metadata": {},
   "source": [
    "## Division des données"
   ]
  },
  {
   "cell_type": "markdown",
   "id": "a1586590-b823-44aa-b0e6-032acdbcb3a7",
   "metadata": {},
   "source": [
    "Cette ligne divise les ensembles de données X et Y en sous-ensembles de test et d'entraînement/validation en utilisant un ratio de test de 20% de l'ensemble des données. 20% du jeu de données sera réservé pour le test, tandis que les 80% restants seront utilisés pour l'entraînement/validation.\n",
    "\n",
    "Le random_state fixé à 42 garantit que les résultats de cette opération sont reproductibles. train_test_split est une fonction de la bibliothèque scikit-learn en Python, spécifiquement du module model_selection."
   ]
  },
  {
   "cell_type": "code",
   "execution_count": 15,
   "id": "8fa8846a",
   "metadata": {},
   "outputs": [],
   "source": [
    "# La fonction train_test_split retourne quatre ensembles de données, qui sont ici affectés aux variables suivantes :\n",
    "\n",
    "x_train_val, x_test, y_train_val, y_test = train_test_split(X, Y, test_size=0.2, random_state=42)\n",
    "\n",
    "# x_train_val et y_train_val contiennent 80% des caractéristiques \n",
    "# x_test et y_test contiennent 20% des caractéristiques."
   ]
  },
  {
   "cell_type": "code",
   "execution_count": 16,
   "id": "ce64c994",
   "metadata": {
    "scrolled": true
   },
   "outputs": [
    {
     "name": "stdout",
     "output_type": "stream",
     "text": [
      "            y_Reta    y_Rphi   y_weta2  y_fracs1   y_weta1  y_wtots1  \\\n",
      "7051721   0.737991  0.793163  0.015406  0.503421  0.823398  1.981809   \n",
      "17179273  0.910608  0.940264  0.011426  0.281745  0.597590  2.206814   \n",
      "1082230   0.984792  0.981044  0.009753  0.164402  0.604539  1.529858   \n",
      "15893487  0.968125  0.965201  0.008973  0.189951  0.572198  1.759900   \n",
      "19826834  0.957314  0.974538  0.009547  0.191524  0.548786  1.818215   \n",
      "\n",
      "            y_Rhad   y_Rhad1  y_Eratio     y_deltae        y_pt     y_eta  \\\n",
      "7051721   0.198265  0.039483  0.343118  2039.044922   51.956734  2.267797   \n",
      "17179273  0.181549  0.119059  0.932806     7.789764   34.364429 -1.958636   \n",
      "1082230   0.017967  0.018998  0.980951    24.993219   39.007401  0.172711   \n",
      "15893487  0.002274  0.001395  0.983284    25.000179   86.679977  0.162386   \n",
      "19826834  0.000064 -0.000655  0.986684    29.001678  281.008636 -0.796674   \n",
      "\n",
      "             y_phi  y_convRadius  y_convType  evt_mu  y_truth_pt  y_truth_eta  \n",
      "7051721  -1.499033     49.392670           3    31.5   12.533671     2.266477  \n",
      "17179273  1.959331    317.343506           1    47.5   26.214190    -1.961529  \n",
      "1082230  -0.628337   9999.000000           0    29.5   37.140778     0.202515  \n",
      "15893487  2.113541   9999.000000           0    22.5   86.595421     0.162440  \n",
      "19826834  0.281347   9999.000000           0    28.5  282.742554    -0.796599  \n",
      "\n",
      "            y_Reta    y_Rphi   y_weta2  y_fracs1   y_weta1  y_wtots1  \\\n",
      "24561057  0.954954  0.899404  0.009613  0.254896  0.621387  2.528764   \n",
      "20287410  0.955093  0.974102  0.010323  0.155254  0.564600  1.365611   \n",
      "1293589   0.927477  0.897962  0.011593  0.202278  0.625470  1.344873   \n",
      "14874779  0.947551  0.967690  0.009192  0.206786  0.634116  1.846397   \n",
      "3757419   0.907269  0.980400  0.009207  0.161027  0.561816  2.087898   \n",
      "\n",
      "            y_Rhad   y_Rhad1  y_Eratio    y_deltae        y_pt     y_eta  \\\n",
      "24561057 -0.010557 -0.007920  0.926774   15.850891   38.425171  0.492908   \n",
      "20287410  0.007482  0.007181  0.931918  421.045471  658.326721  2.149359   \n",
      "1293589   0.009857  0.009460  0.979145  164.857269   55.471588  2.065392   \n",
      "14874779 -0.010129 -0.006228  0.962259    6.011673   76.167084 -0.450883   \n",
      "3757419   0.002950  0.005425  0.826555  235.901489   33.042652  0.601630   \n",
      "\n",
      "             y_phi  y_convRadius  y_convType  evt_mu  y_truth_pt  y_truth_eta  \n",
      "24561057  0.181391    582.343933           2    48.5   36.905266     0.482834  \n",
      "20287410 -0.561792   9999.000000           0    59.5  655.964722     2.149722  \n",
      "1293589  -1.106885    115.510132           3    17.5   57.569839     2.064904  \n",
      "14874779 -0.473200    151.736130           3    54.5   76.988991    -0.420971  \n",
      "3757419   0.322028   9999.000000           0    56.5   28.884296     0.652790  \n",
      "\n",
      "          truth_label      weight  y_IsTight  y_IsLoose  evt_mu\n",
      "7051721           0.0   48.548934      False      False    31.5\n",
      "17179273          0.0   38.855491      False      False    47.5\n",
      "1082230           1.0  554.386153       True       True    29.5\n",
      "15893487          1.0   40.708948       True       True    22.5\n",
      "19826834          1.0    0.283104       True       True    28.5\n",
      "\n",
      "          truth_label      weight  y_IsTight  y_IsLoose  evt_mu\n",
      "24561057          1.0  557.225431       True       True    48.5\n",
      "20287410          1.0    0.000298       True       True    59.5\n",
      "1293589           1.0  130.843104       True       True    17.5\n",
      "14874779          1.0  123.272825       True       True    54.5\n",
      "3757419           0.0  287.181402      False       True    56.5\n"
     ]
    }
   ],
   "source": [
    "print(x_test.head())\n",
    "print()\n",
    "print(x_train_val.head())\n",
    "print()\n",
    "print(y_test.head())\n",
    "print()\n",
    "print(y_train_val.head())"
   ]
  },
  {
   "cell_type": "markdown",
   "id": "c01e5c8f",
   "metadata": {},
   "source": [
    "# Step 2: Split train + validation set into train and validation\n",
    "    Train and validation are respectively 80% and 20% of 80% of total"
   ]
  },
  {
   "cell_type": "markdown",
   "id": "2f7088d1",
   "metadata": {},
   "source": [
    "## Sous-division pour validation "
   ]
  },
  {
   "cell_type": "raw",
   "id": "1f6ea4ad",
   "metadata": {},
   "source": [
    "Cette ligne prend l'ensemble d'entraînement initial et le divise à nouveau pour créer des ensembles d'entraînement et de validation. Ceci est essentiel pour valider le modèle de manière interne avant de l'évaluer sur l'ensemble de test."
   ]
  },
  {
   "cell_type": "code",
   "execution_count": 17,
   "id": "eeed05b9",
   "metadata": {},
   "outputs": [],
   "source": [
    "x_train, x_val, y_train, y_val = train_test_split(x_train_val, y_train_val, test_size=0.2, random_state=42)\n",
    "\n",
    "# x_train et y_train contiennent 80% des caractéristiques des 80% d'entrainement/validation.\n",
    "# x_val et y_val contiennent 20% des caractéristiques des 80% d'entrainement/validation."
   ]
  },
  {
   "cell_type": "code",
   "execution_count": 18,
   "id": "ac6c2daa",
   "metadata": {
    "scrolled": true
   },
   "outputs": [
    {
     "name": "stdout",
     "output_type": "stream",
     "text": [
      "            y_Reta    y_Rphi   y_weta2  y_fracs1   y_weta1  y_wtots1  \\\n",
      "33231460  0.934341  0.965070  0.011595  0.148167  0.550008  1.132099   \n",
      "21007696  0.967197  0.970287  0.009439  0.221387  0.606465  2.072340   \n",
      "32244596  0.958091  0.971606  0.009779  0.186226  0.531598  1.620028   \n",
      "5923843   0.832255  0.793028  0.012977  0.815100  0.510717  3.751423   \n",
      "24885675  0.918750  0.939741  0.012447  0.189586  0.626884  1.344980   \n",
      "\n",
      "            y_Rhad   y_Rhad1  y_Eratio   y_deltae        y_pt     y_eta  \\\n",
      "33231460  0.003533  0.002258  0.987297  40.682999  162.126938 -2.281797   \n",
      "21007696  0.000766  0.000449  0.997295   5.998215  530.955261 -0.837165   \n",
      "32244596  0.005014  0.002445  0.985609  55.149567  153.167419 -1.846320   \n",
      "5923843   0.561845  0.549053  0.141246  81.000153   22.219759  0.302122   \n",
      "24885675 -0.011799 -0.007493  0.986053  53.795776   35.869331 -2.069067   \n",
      "\n",
      "             y_phi  y_convRadius  y_convType  evt_mu  y_truth_pt  y_truth_eta  \n",
      "33231460  2.818559   9999.000000           0   45.50  160.664474    -2.281891  \n",
      "21007696  2.113452   9999.000000           0   53.50  536.884583    -0.837203  \n",
      "32244596  1.264871    318.458679           3   30.49  152.394028    -1.845854  \n",
      "5923843  -2.710474     33.739441           3   19.50   10.963361     0.300345  \n",
      "24885675  0.526898   9999.000000           0   15.50   36.779686    -2.085203  \n",
      "\n",
      "            y_Reta    y_Rphi   y_weta2  y_fracs1   y_weta1  y_wtots1  \\\n",
      "22960745  0.947073  0.860518  0.010085  0.277237  0.571892  1.774146   \n",
      "3616583   0.899827  0.916835  0.013324  1.089475  0.645847  5.608523   \n",
      "38746076  0.955948  0.973558  0.009094  0.275302  0.643121  2.270490   \n",
      "10889487  0.970906  0.984800  0.008709  0.199427  0.555765  1.905072   \n",
      "3883913   0.943857  0.869914  0.011331  0.547930  0.697804  2.755465   \n",
      "\n",
      "            y_Rhad   y_Rhad1  y_Eratio    y_deltae        y_pt     y_eta  \\\n",
      "22960745  0.006750  0.003265  0.986054   64.532761   31.231333  1.825364   \n",
      "3616583  -0.004268  0.000280  0.177543  795.998169   33.014931  0.490198   \n",
      "38746076  0.001028  0.002164  0.992135   35.998535  847.684387 -1.609894   \n",
      "10889487  0.004418  0.004391  0.984698   39.011902  670.820374 -0.310428   \n",
      "3883913  -0.005247 -0.005357  0.183409  575.143188   30.221983  1.056810   \n",
      "\n",
      "             y_phi  y_convRadius  y_convType  evt_mu  y_truth_pt  y_truth_eta  \n",
      "22960745 -0.871584     34.044930           3    21.5   32.521217     1.824789  \n",
      "3616583   2.005753     63.568146           3    33.5    0.597276     0.418248  \n",
      "38746076  2.620645    124.061577           3    23.5  857.622192    -1.610022  \n",
      "10889487 -1.968975     60.870571           3    34.5  672.434814    -0.310805  \n",
      "3883913  -0.509093     67.357574           3    58.5   19.288050     1.056281  \n",
      "\n",
      "          truth_label      weight  y_IsTight  y_IsLoose  evt_mu\n",
      "33231460          1.0    2.639185       True       True   45.50\n",
      "21007696          1.0    0.012880       True       True   53.50\n",
      "32244596          1.0    2.357635       True       True   30.49\n",
      "5923843           0.0   44.035493      False      False   19.50\n",
      "24885675          1.0  654.589717       True       True   15.50\n",
      "\n",
      "          truth_label       weight  y_IsTight  y_IsLoose  evt_mu\n",
      "22960745          1.0  9596.607169       True       True    21.5\n",
      "3616583           0.0   274.226580      False      False    33.5\n",
      "38746076          1.0     0.014550       True       True    23.5\n",
      "10889487          1.0     0.006064       True       True    34.5\n",
      "3883913           0.0    28.373384      False       True    58.5\n"
     ]
    }
   ],
   "source": [
    "print(x_train.head())\n",
    "print()\n",
    "print(x_val.head())\n",
    "print()\n",
    "print(y_train.head())\n",
    "print()\n",
    "print(y_val.head())"
   ]
  },
  {
   "cell_type": "markdown",
   "id": "34b0fa87",
   "metadata": {},
   "source": [
    "# Préparation des DataFrames entrainement, validation et test pour les poids et coupures (labels)\n",
    "à partir de sous-ensembles de données extraites de y_train, y_test et y_val."
   ]
  },
  {
   "cell_type": "code",
   "execution_count": 19,
   "id": "0572d874",
   "metadata": {},
   "outputs": [],
   "source": [
    "# {} délimitent un dictionnaire en Python, où chaque paire clé-valeur définit les colonnes du DataFrame.\n",
    "\n",
    "wdf_train = pd.DataFrame({\"weight\"             : y_train[\"weight\"] ,              # y_train : 80% des 80% des 100%\n",
    "                          \"y_IsTight\"          : y_train['y_IsTight'], \n",
    "                          'y_IsLoose'          : y_train['y_IsLoose'], \n",
    "                          #'y_iso_FixedCutLoose': y_train['y_iso_FixedCutLoose'], \n",
    "                          #'y_iso_FixedCutTight': y_train['y_iso_FixedCutTight'], \n",
    "                          #'y_topoetcone20'     : y_train['y_topoetcone20'], \n",
    "                          #'y_topoetcone40'     : y_train['y_topoetcone40'], \n",
    "                          'evt_mu'             : y_train['evt_mu'], \n",
    "                          #'y_jmin_dr'          : y_train['y_jmin_dr']\n",
    "                         })"
   ]
  },
  {
   "cell_type": "code",
   "execution_count": 20,
   "id": "f325186b",
   "metadata": {
    "scrolled": true
   },
   "outputs": [],
   "source": [
    "wdf_test  = pd.DataFrame({\"weight\"             : y_test[\"weight\"] ,\n",
    "                          \"y_IsTight\"          : y_test['y_IsTight'],              # y_test : 20% des 100%\n",
    "                          'y_IsLoose'          : y_test['y_IsLoose'], \n",
    "                          #'y_iso_FixedCutLoose': y_test['y_iso_FixedCutLoose'], \n",
    "                          #'y_iso_FixedCutTight': y_test['y_iso_FixedCutTight'], \n",
    "                          #'y_topoetcone20'     : y_test['y_topoetcone20'], \n",
    "                          #'y_topoetcone40'     : y_test['y_topoetcone40'], \n",
    "                          'evt_mu'             : y_test['evt_mu'], \n",
    "                          #'y_jmin_dr'          : y_test['y_jmin_dr']\n",
    "                         })"
   ]
  },
  {
   "cell_type": "code",
   "execution_count": 21,
   "id": "d05c80db",
   "metadata": {},
   "outputs": [],
   "source": [
    "wdf_val = pd.DataFrame({\"weight\"             : y_val[\"weight\"] ,      \n",
    "                        \"y_IsTight\"          : y_val['y_IsTight'],                  # y_val : 20% des 80% des 100%\n",
    "                        'y_IsLoose'          : y_val['y_IsLoose'],        \n",
    "                        #'y_iso_FixedCutLoose': y_val['y_iso_FixedCutLoose'], \n",
    "                        #'y_iso_FixedCutTight': y_val['y_iso_FixedCutTight'], \n",
    "                        #'y_topoetcone20'     : y_val['y_topoetcone20'], \n",
    "                        #'y_topoetcone40'     : y_val['y_topoetcone40'], \n",
    "                          'evt_mu'             : y_val['evt_mu'], \n",
    "                        #'y_jmin_dr'          : y_val['y_jmin_dr']\n",
    "                       })"
   ]
  },
  {
   "cell_type": "code",
   "execution_count": 22,
   "id": "b9730b20",
   "metadata": {},
   "outputs": [],
   "source": [
    "# df de vérité sur les X pour train, val and test.\n",
    "\n",
    "truth_train = pd.DataFrame({\"y_truth_pt\" : x_train['y_truth_pt'],            # x_train : 80% des 80% des 100%\n",
    "                            \"y_truth_eta\": x_train['y_truth_eta']})\n",
    "\n",
    "truth_val   = pd.DataFrame({\"y_truth_pt\" : x_val['y_truth_pt'],              # x_val : 20% des 80% des 100%\n",
    "                            \"y_truth_eta\": x_val['y_truth_eta']})\n",
    "\n",
    "truth_test  = pd.DataFrame({\"y_truth_pt\" : x_test['y_truth_pt'],             # x_test : 20% des 100%\n",
    "                            \"y_truth_eta\": x_test['y_truth_eta']})"
   ]
  },
  {
   "cell_type": "markdown",
   "id": "88bf1ced",
   "metadata": {},
   "source": [
    "# Suppression des variables de vérité des ensembles de données\n",
    "Nettoyage des ensembles de données : Avant de procéder à l'entraînement du modèle, ces lignes suppriment les variables de vérité des ensembles de données X et Y pour éviter de les utiliser comme caractéristiques dans l'entraînement du modèle, ce qui serait une fuite d'informations. "
   ]
  },
  {
   "cell_type": "code",
   "execution_count": 23,
   "id": "1358494a",
   "metadata": {},
   "outputs": [
    {
     "data": {
      "text/plain": [
       "['y_IsLoose', 'evt_mu', 'y_IsTight', 'weight']"
      ]
     },
     "execution_count": 23,
     "metadata": {},
     "output_type": "execute_result"
    }
   ],
   "source": [
    "truth_var_drop = list(set(y_train.columns)-{'truth_label'}) # Drop truth_label\n",
    "truth_var_drop "
   ]
  },
  {
   "cell_type": "code",
   "execution_count": 24,
   "id": "cd6f291b",
   "metadata": {},
   "outputs": [
    {
     "data": {
      "text/plain": [
       "['y_truth_pt', 'y_truth_eta']"
      ]
     },
     "execution_count": 24,
     "metadata": {},
     "output_type": "execute_result"
    }
   ],
   "source": [
    "truth_var"
   ]
  },
  {
   "cell_type": "code",
   "execution_count": 25,
   "id": "6d2c5eed",
   "metadata": {},
   "outputs": [],
   "source": [
    "y_train = y_train.drop(truth_var_drop, axis=1)\n",
    "y_test  = y_test.drop(truth_var_drop, axis=1)\n",
    "y_val   = y_val.drop(truth_var_drop, axis=1)  \n",
    "\n",
    "# This is crucial: we don't want to use truth variables as training features!\n",
    "x_train = x_train.drop(truth_var, axis=1)\n",
    "x_test  = x_test.drop(truth_var, axis=1)\n",
    "x_val   = x_val.drop(truth_var, axis=1)  "
   ]
  },
  {
   "cell_type": "code",
   "execution_count": 26,
   "id": "d5132433",
   "metadata": {},
   "outputs": [
    {
     "name": "stdout",
     "output_type": "stream",
     "text": [
      "          truth_label\n",
      "33231460          1.0\n",
      "21007696          1.0\n",
      "32244596          1.0\n",
      "5923843           0.0\n",
      "24885675          1.0\n"
     ]
    }
   ],
   "source": [
    "print(y_train.head())"
   ]
  },
  {
   "cell_type": "code",
   "execution_count": 27,
   "id": "b7dda94e",
   "metadata": {},
   "outputs": [
    {
     "name": "stdout",
     "output_type": "stream",
     "text": [
      "          truth_label\n",
      "7051721           0.0\n",
      "17179273          0.0\n",
      "1082230           1.0\n",
      "15893487          1.0\n",
      "19826834          1.0\n"
     ]
    }
   ],
   "source": [
    "print(y_test.head())"
   ]
  },
  {
   "cell_type": "code",
   "execution_count": 28,
   "id": "190472e9",
   "metadata": {},
   "outputs": [
    {
     "name": "stdout",
     "output_type": "stream",
     "text": [
      "          truth_label\n",
      "22960745          1.0\n",
      "3616583           0.0\n",
      "38746076          1.0\n",
      "10889487          1.0\n",
      "3883913           0.0\n",
      "...               ...\n",
      "14584512          1.0\n",
      "19215020          1.0\n",
      "10878207          1.0\n",
      "3970769           0.0\n",
      "35468785          1.0\n",
      "\n",
      "[2795501 rows x 1 columns]\n"
     ]
    }
   ],
   "source": [
    "print(y_val)"
   ]
  },
  {
   "cell_type": "code",
   "execution_count": 29,
   "id": "a79a0b55",
   "metadata": {},
   "outputs": [
    {
     "name": "stdout",
     "output_type": "stream",
     "text": [
      "            y_Reta    y_Rphi   y_weta2  y_fracs1   y_weta1  y_wtots1  \\\n",
      "33231460  0.934341  0.965070  0.011595  0.148167  0.550008  1.132099   \n",
      "21007696  0.967197  0.970287  0.009439  0.221387  0.606465  2.072340   \n",
      "32244596  0.958091  0.971606  0.009779  0.186226  0.531598  1.620028   \n",
      "5923843   0.832255  0.793028  0.012977  0.815100  0.510717  3.751423   \n",
      "24885675  0.918750  0.939741  0.012447  0.189586  0.626884  1.344980   \n",
      "\n",
      "            y_Rhad   y_Rhad1  y_Eratio   y_deltae        y_pt     y_eta  \\\n",
      "33231460  0.003533  0.002258  0.987297  40.682999  162.126938 -2.281797   \n",
      "21007696  0.000766  0.000449  0.997295   5.998215  530.955261 -0.837165   \n",
      "32244596  0.005014  0.002445  0.985609  55.149567  153.167419 -1.846320   \n",
      "5923843   0.561845  0.549053  0.141246  81.000153   22.219759  0.302122   \n",
      "24885675 -0.011799 -0.007493  0.986053  53.795776   35.869331 -2.069067   \n",
      "\n",
      "             y_phi  y_convRadius  y_convType  evt_mu  \n",
      "33231460  2.818559   9999.000000           0   45.50  \n",
      "21007696  2.113452   9999.000000           0   53.50  \n",
      "32244596  1.264871    318.458679           3   30.49  \n",
      "5923843  -2.710474     33.739441           3   19.50  \n",
      "24885675  0.526898   9999.000000           0   15.50  \n"
     ]
    }
   ],
   "source": [
    "print(x_train.head())"
   ]
  },
  {
   "cell_type": "code",
   "execution_count": 30,
   "id": "d00f3005",
   "metadata": {},
   "outputs": [
    {
     "name": "stdout",
     "output_type": "stream",
     "text": [
      "TRAINING   size = 11182003\n",
      "TEST       size =  3494377\n",
      "VALIDATION size =  2795501\n",
      "Number of signal events in test sample     : 2338410\n",
      "Number of background events in test sample : 1155967\n"
     ]
    }
   ],
   "source": [
    "print('TRAINING   size = {:8d}'.format(len(y_train)))\n",
    "print('TEST       size = {:8d}'.format(len(y_test)))\n",
    "print('VALIDATION size = {:8d}'.format(len(y_val)))  \n",
    "\n",
    "print('Number of signal events in test sample     :', len(y_test.query('truth_label == True')))\n",
    "print('Number of background events in test sample :', len(y_test.query('truth_label == False')))  "
   ]
  },
  {
   "cell_type": "code",
   "execution_count": 31,
   "id": "5b2cf410",
   "metadata": {},
   "outputs": [],
   "source": [
    "# np.raveltransforment les tableaux y_train et y_val en vecteurs unidimensionnels.\n",
    "\n",
    "#nécessaire lorsque les labels de réponse dans les tâches de \n",
    "#classification ou de régression sont stockés sous forme de tableaux multidimensionnels, \n",
    "#mais que les algorithmes de modélisation requièrent des vecteurs unidimensionnels comme entrée.\n",
    "\n",
    "y_train = np.ravel(y_train)\n",
    "y_val = np.ravel(y_val)\n",
    "\n",
    "weight_train = np.array(wdf_train[\"weight\"]) # pour donner différentes importances aux observations lors de l'entraînement.\n",
    "\n",
    "#  Crée une liste de deux tableaux nump pour passer plusieurs séries de poids dans différentes phases de validation / entrainement\n",
    "weight_val = [np.array(wdf_train[\"weight\"]), np.array(wdf_val[\"weight\"])]\n"
   ]
  },
  {
   "cell_type": "code",
   "execution_count": 32,
   "id": "9248bed9",
   "metadata": {},
   "outputs": [
    {
     "data": {
      "text/plain": [
       "array([1., 1., 1., ..., 1., 1., 0.])"
      ]
     },
     "execution_count": 32,
     "metadata": {},
     "output_type": "execute_result"
    }
   ],
   "source": [
    "y_train"
   ]
  },
  {
   "cell_type": "markdown",
   "id": "83c3abde",
   "metadata": {},
   "source": [
    "# Entraînement du modèle LightGBM"
   ]
  },
  {
   "cell_type": "raw",
   "id": "92b5e8ba-04da-4c9b-ab55-166c172d342a",
   "metadata": {},
   "source": [
    "model = lgb.LGBMClassifier(learning_rate=0.05,      # Le taux d'apprentissage pour l'optimisation, \n",
    "                                                    # contrôlant à quelle vitesse le modèle apprend.\n",
    "                           \n",
    "                           num_leaves=35,           # Le nombre de feuilles dans chaque arbre. Plus il y a de feuilles, \n",
    "                                                    # plus le modèle peut être complexe.\n",
    "                           \n",
    "                           max_depth=-5,            # La profondeur maximale des arbres, où -1 signifie aucune limite.\n",
    "                           \n",
    "                           objective='xentropy',    # L'objectif à optimiser, ici l'entropie croisée pour les \n",
    "                                                    # tâches de classification.\n",
    "                           \n",
    "                           n_estimators=1000,       # Le nombre d'arbres à construire (itérations dans le boosting).\n",
    "                           \n",
    "                           force_col_wise=True)     # Une option pour accélérer les calculs en utilisant \n",
    "                                                    # une méthode de stockage optimisée des données.\n",
    "    \n",
    "# Configuration des callbacks pour l'arrêt précoce, qui arrête l'entraînement si la performance \n",
    "# ne s'améliore pas sur 10 rondes, et pour la journalisation des évaluations tous les 30 cycles.\n",
    "\n",
    "cb = [lgb.early_stopping(stopping_rounds=10),lgb.log_evaluation(30)]\n",
    "\n",
    "model.fit(x_train, y_train,\n",
    "          eval_set = [(x_train, y_train), (x_val, y_val)],  \n",
    "          eval_names = ['Train', 'Validation'],\n",
    "          eval_metric = 'xentropy', \n",
    "          sample_weight = weight_train,\n",
    "          eval_sample_weight = weight_val,\n",
    "          callbacks=[lgb.early_stopping(stopping_rounds=10), lgb.log_evaluation(30)])"
   ]
  },
  {
   "cell_type": "markdown",
   "id": "4da96ed0-5f36-4306-a9a8-252c1476287c",
   "metadata": {},
   "source": [
    " # Saving model to file\n",
    "import joblib\n",
    "joblib.dump(model,'/lapp_data/atlas/chardong/work/BDT_model/LGBMClassifier_model_hard_no_loose_lr0.05_35AddEvtmu.pkl')"
   ]
  },
  {
   "cell_type": "code",
   "execution_count": 33,
   "id": "661283db-0167-4bd7-b039-0a705db12165",
   "metadata": {},
   "outputs": [
    {
     "name": "stderr",
     "output_type": "stream",
     "text": [
      "/home/chardong/Bureau/Work/vevn-py3.10/lib/python3.10/site-packages/sklearn/base.py:376: InconsistentVersionWarning: Trying to unpickle estimator LabelEncoder from version 0.24.2 when using version 1.4.2. This might lead to breaking code or invalid results. Use at your own risk. For more info please refer to:\n",
      "https://scikit-learn.org/stable/model_persistence.html#security-maintainability-limitations\n",
      "  warnings.warn(\n"
     ]
    }
   ],
   "source": [
    "# Loading model from file\n",
    "model_pickle = joblib.load(savedirmodelEvtmu)"
   ]
  },
  {
   "cell_type": "markdown",
   "id": "36a91521",
   "metadata": {},
   "source": [
    "# Identifier des problèmes comme le surajustement ou le sous-ajustement."
   ]
  },
  {
   "cell_type": "code",
   "execution_count": 34,
   "id": "1db49827",
   "metadata": {},
   "outputs": [
    {
     "data": {
      "image/png": "[encoded data removed]",
      "text/plain": [
       "<Figure size 1200x800 with 1 Axes>"
      ]
     },
     "metadata": {},
     "output_type": "display_data"
    }
   ],
   "source": [
    " # Cross-entropy evolution during training\n",
    "lgb.plot_metric(model_pickle, figsize=(12,8))\n",
    "plt.title('Metric during training')\n",
    "plt.savefig(savedir+'AddEvtmu_metric_lr_0.09_35.pdf')"
   ]
  },
  {
   "cell_type": "markdown",
   "id": "fa19a585",
   "metadata": {},
   "source": [
    "# Quelles caractéristiques ont le plus grand impact sur les prédictions du modèle."
   ]
  },
  {
   "cell_type": "code",
   "execution_count": 35,
   "id": "ecc5dc19",
   "metadata": {},
   "outputs": [
    {
     "data": {
      "image/png": "[encoded data removed]",
      "text/plain": [
       "<Figure size 1200x800 with 1 Axes>"
      ]
     },
     "metadata": {},
     "output_type": "display_data"
    }
   ],
   "source": [
    " # Feature importance: Numbers of times the feature is used in a model\n",
    "lgb.plot_importance(model_pickle, importance_type='split', figsize=(12,8))\n",
    "plt.title('Feature importance: split')\n",
    "plt.savefig(savedir+'AddEvtmu_feature_split_lr_0.09_35.pdf')\n",
    "plt.show()"
   ]
  },
  {
   "cell_type": "markdown",
   "id": "3da85b17",
   "metadata": {},
   "source": [
    "# Perspective sur la quantité d'information apportée par chaque caractéristique dans la réduction de l'incertitude ou de l'entropie."
   ]
  },
  {
   "cell_type": "code",
   "execution_count": 36,
   "id": "13a0baa9",
   "metadata": {},
   "outputs": [
    {
     "data": {
      "image/png": "[encoded data removed]",
      "text/plain": [
       "<Figure size 1200x800 with 1 Axes>"
      ]
     },
     "metadata": {},
     "output_type": "display_data"
    }
   ],
   "source": [
    " lgb.plot_importance(model_pickle, importance_type='gain', precision = None, figsize=(12,8))\n",
    "plt.title('Feature importance: gain')\n",
    "plt.savefig(savedir+'AddEvtmu_feature_gain_lr_0.09_35.pdf')\n",
    "plt.show()"
   ]
  },
  {
   "cell_type": "code",
   "execution_count": null,
   "id": "6cd167f8",
   "metadata": {},
   "outputs": [],
   "source": [
    " # make predictions to the test sample\n",
    "y_pred_prob = model_pickle.predict_proba(x_test)\n",
    "y_pred_prob_train = model_pickle.predict_proba(x_train)"
   ]
  },
  {
   "cell_type": "raw",
   "id": "ad7ca723",
   "metadata": {},
   "source": [
    "Prédire les probabilités que les échantillons dans les ensembles de test et d'entraînement appartiennent au signal ou au Bckg. predict_proba retourne un tableau de probabilités pour chaque classe:"
   ]
  },
  {
   "cell_type": "code",
   "execution_count": null,
   "id": "41fd5ec8",
   "metadata": {},
   "outputs": [],
   "source": [
    "y_pred_prob"
   ]
  },
  {
   "cell_type": "code",
   "execution_count": null,
   "id": "5abd3c28",
   "metadata": {},
   "outputs": [],
   "source": [
    "y_test = pd.DataFrame(y_test)\n",
    "y_train = pd.DataFrame(y_train)"
   ]
  },
  {
   "cell_type": "code",
   "execution_count": null,
   "id": "2d91e0dd",
   "metadata": {},
   "outputs": [],
   "source": [
    "wdf_test.head()"
   ]
  },
  {
   "cell_type": "raw",
   "id": "7fed1911",
   "metadata": {},
   "source": [
    "Créer des DataFrames à partir des tableaux de probabilités obtenus par predict_proba, avec des colonnes nommées '0' et '1' qui représentent les probabilités d'appartenance aux classes fond et signal, respectivement."
   ]
  },
  {
   "cell_type": "code",
   "execution_count": null,
   "id": "998492c5",
   "metadata": {},
   "outputs": [],
   "source": [
    "df = pd.DataFrame(y_pred_prob, columns=['0', '1']) # test sample predictions\n",
    "dg = pd.DataFrame(y_pred_prob_train, columns = ['0', '1'])\n",
    "\n",
    "df.reset_index(inplace=True, drop=True)\n",
    "dg.reset_index(inplace=True, drop=True)\n",
    "\n",
    "y_test.reset_index(inplace=True, drop=True)\n",
    "y_train.reset_index(inplace=True, drop=True)\n",
    "\n",
    "wdf_test.reset_index(inplace=True, drop=True)\n",
    "wdf_train.reset_index(inplace=True, drop=True)"
   ]
  },
  {
   "cell_type": "code",
   "execution_count": null,
   "id": "646d3baa",
   "metadata": {},
   "outputs": [],
   "source": [
    "df.head()"
   ]
  },
  {
   "cell_type": "markdown",
   "id": "76a33491",
   "metadata": {},
   "source": [
    "# Fusion et Préparation des Données pour les Visualisations"
   ]
  },
  {
   "cell_type": "code",
   "execution_count": null,
   "id": "79f91a0e",
   "metadata": {},
   "outputs": [],
   "source": [
    "# join='inner' garantit que seules les lignes avec des indices correspondants dans tous les DataFrames sont conservées.\n",
    "\n",
    "df2 = pd.concat([df, y_test, wdf_test], axis=1, join='inner', ignore_index=True)\n",
    "dg2 = pd.concat([dg, y_train, wdf_train], axis=1, join='inner', ignore_index=True)"
   ]
  },
  {
   "cell_type": "code",
   "execution_count": null,
   "id": "727bb12c",
   "metadata": {},
   "outputs": [],
   "source": [
    "df2.head()"
   ]
  },
  {
   "cell_type": "code",
   "execution_count": null,
   "id": "c45bb72f",
   "metadata": {},
   "outputs": [],
   "source": [
    "col_names = [\"background_score\", \"signal_score\"] + list(y_test.columns) + list(wdf_test.columns)\n",
    "df2.columns = col_names\n",
    "dg2.columns = col_names"
   ]
  },
  {
   "cell_type": "code",
   "execution_count": null,
   "id": "11174734",
   "metadata": {},
   "outputs": [],
   "source": [
    "xf2 = x_test[kinem_var + conv_var]\n",
    "xf2.reset_index(inplace=True, drop=True)\n",
    "df_test_all = pd.concat([xf2,df2], axis=1, join='inner', ignore_index=True)\n",
    "df_test_all.columns = list(xf2.columns)+list(df2.columns)\n",
    "df_test_all"
   ]
  },
  {
   "cell_type": "raw",
   "id": "73fcd7eb",
   "metadata": {},
   "source": [
    "#df_test_all.to_pickle(\"/lapp_data/atlas/chardong/Venv/savedir/save_pkl/test_sample_hard_scattering.pkl\")"
   ]
  },
  {
   "cell_type": "markdown",
   "id": "da9569da",
   "metadata": {},
   "source": [
    "# BDT output\n",
    "The BDT output has two columns: for each event a score (probability) to belong to class 0 or class 1  (here they are called background_class and signal_class ) is assigned."
   ]
  },
  {
   "cell_type": "code",
   "execution_count": null,
   "id": "b6d1c674-aa96-459c-8e73-e10197290706",
   "metadata": {},
   "outputs": [],
   "source": [
    "fig, ax = plt.subplots(figsize=(12,8))\n",
    "\n",
    "plt.hist(df2[(df2[\"truth_label\"]==0 )][\"signal_score\"],\n",
    "         weights = df2[(df2[\"truth_label\"]==0 )][\"weight\"], \n",
    "         bins = 50, log = True, density = True, alpha=0.5, \n",
    "         histtype = 'stepfilled', label='Background', color = 'b')\n",
    "\n",
    "plt.hist(df2[(df2[\"truth_label\"]==1 )][\"signal_score\"],\n",
    "         weights = df2[(df2[\"truth_label\"]==1 )][\"weight\"], \n",
    "         bins = 50, log = True, density = True, alpha=0.5,\n",
    "         histtype = 'stepfilled', label='Signal', color = 'orange')\n",
    "\n",
    "plt.ylabel('Frequency', fontsize = 14)\n",
    "\n",
    "plt.legend(loc='upper center', fontsize = 14)\n",
    "plt.gca().set(xlabel=\"LightGBM score (probability to be assigned to the signal class)\")\n",
    "\n",
    "plt.savefig(savedir+'AddEvtmu_score_lr_0.09_35.pdf')\n",
    "plt.show()"
   ]
  },
  {
   "cell_type": "markdown",
   "id": "0122783c",
   "metadata": {},
   "source": [
    "# ROC curve\n",
    "\n",
    "compute signal and background efficiencies for \"official\" cut-based Tight selection"
   ]
  },
  {
   "cell_type": "markdown",
   "id": "27332b3a",
   "metadata": {},
   "source": [
    "Courbe ROC (Receiver Operating Characteristic) est tracée pour évaluer la performance du modèle. \n",
    "\n",
    "En plus, la performance d'une méthode de classification basée sur des seuils fixes (\"Cut-based Tight ID\") est ajoutée au graphique pour comparaison. La courbe ROC évalue l'efficacité de détection du signal par rapport à l'efficacité du fond, fournissant une mesure visuelle de la qualité du classificateur."
   ]
  },
  {
   "cell_type": "code",
   "execution_count": null,
   "id": "289fd96c",
   "metadata": {},
   "outputs": [],
   "source": [
    "s_tot = sum( df2[(df2[\"truth_label\"] == 1)][\"weight\"] )\n",
    "s_selected = sum( df2[(df2[\"truth_label\"] == 1) & (df2['y_IsTight'].values)][\"weight\"] )\n",
    "s_eff = s_selected / s_tot\n",
    "\n",
    "b_tot = sum( df2[(df2[\"truth_label\"] == 0)][\"weight\"] )\n",
    "b_selected = sum( df2[(df2[\"truth_label\"] == 0) & (df2['y_IsTight'].values)][\"weight\"] )\n",
    "b_eff = b_selected / b_tot"
   ]
  },
  {
   "cell_type": "code",
   "execution_count": null,
   "id": "30d3bd91",
   "metadata": {},
   "outputs": [],
   "source": [
    "print(f\"Number of signal events                   = {s_tot:12.0f}\")\n",
    "print(f\"Number of signal events passing Tight     = {s_selected:12.0f}\")\n",
    "print(f\"Signal efficiency of cut-based Tight      = {100.*s_selected/s_tot:11.2f}%\" )\n",
    "print()\n",
    "print(f\"Number of background events               = {b_tot:12.0f}\")\n",
    "print(f\"Number of background events passing Tight = {b_selected:12.0f}\")\n",
    "print(f\"Background efficiency of cut-based Tight  = {100.*b_selected/b_tot:11.2f}%\" )\n",
    "print(f\"Background rejection of cut-based Tight   = {100.*(1-b_selected/b_tot):11.2f}%\" )"
   ]
  },
  {
   "cell_type": "markdown",
   "id": "a6ce5af0",
   "metadata": {},
   "source": [
    "Plot ROC curve of trained BDT with weighted events, compare to current cut-based Tight selection"
   ]
  },
  {
   "cell_type": "code",
   "execution_count": null,
   "id": "f02e6622",
   "metadata": {},
   "outputs": [],
   "source": [
    "import sklearn\n",
    "print(sklearn.__version__)"
   ]
  },
  {
   "cell_type": "code",
   "execution_count": null,
   "id": "3e978fd2",
   "metadata": {},
   "outputs": [],
   "source": [
    "from sklearn.metrics import roc_curve, auc\n",
    "\n",
    "# Prédire les probabilités pour la classe positive\n",
    "y_scores = model_pickle.predict_proba(x_test)[:, 1]\n",
    "\n",
    "# Calculer les taux de faux positifs et vrais positifs ainsi que les seuils\n",
    "fpr, tpr, thresholds = roc_curve(y_test, y_scores, sample_weight=df2[\"weight\"])\n",
    "\n",
    "# Calculer l'AUC\n",
    "roc_auc = auc(fpr, tpr)\n",
    "\n",
    "# Tracer la courbe ROC\n",
    "plt.figure(figsize=(12, 8))\n",
    "plt.plot(fpr, tpr, color='darkorange', lw=2, label='ROC curve (area = %0.2f)' % roc_auc)\n",
    "plt.plot([0, 1], [0, 1], color='navy', lw=2, linestyle='--')\n",
    "\n",
    "plt.plot(b_eff, s_eff, marker=\"x\", markersize=10, color=\"red\", label = 'Cut-based Tight ID')\n",
    "\n",
    "plt.xlabel('False Positive Rate')\n",
    "plt.ylabel('True Positive Rate')\n",
    "plt.title('Receiver Operating Characteristic')\n",
    "plt.legend(loc=\"lower right\")\n",
    "plt.savefig(savedir+'AddEvtmu_ROC_lr_0.05_35_weight.pdf')\n",
    "\n",
    "plt.show()\n"
   ]
  },
  {
   "cell_type": "markdown",
   "id": "9b94faa1",
   "metadata": {},
   "source": [
    "Rôle de la ligne diagonale dans un graphique ROC\n",
    "\n",
    "    Point de Référence : La ligne diagonale dans un graphique ROC représente un classificateur aléatoire. Un classificateur aléatoire n'a aucune capacité de discrimination et attribue les classes (positives ou négatives) de manière aléatoire, sans aucune corrélation avec les vraies étiquettes.\n",
    "\n",
    "    Comparaison : Cette ligne sert de point de référence pour évaluer la performance des autres classificateurs. Tout classificateur qui se trouve au-dessus de cette ligne a une performance meilleure que le hasard."
   ]
  },
  {
   "cell_type": "raw",
   "id": "03e5081b",
   "metadata": {},
   "source": [
    "fig, ax = plt.subplots(figsize=(8,6))\n",
    "\n",
    "mod_disp = RocCurveDisplay.from_estimator(model_pickle, x_test, y_test, sample_weight=df2[\"weight\"], \n",
    "                                          label=\"BDT\", ax=ax) \n",
    "\n",
    "plt.plot(b_eff, s_eff, marker=\"x\", markersize=10, color=\"red\", label = 'Cut-based Tight ID')\n",
    "\n",
    "plt.xlabel('Background efficiency')\n",
    "plt.ylabel('Signal efficiency')\n",
    "\n",
    "#plt.xlim([0.0, 0.15])\n",
    "#plt.ylim([0.65, 1.0])\n",
    "#plt.title('BDT ROC curve - zoom')\n",
    "\n",
    "plt.title('BDT ROC curve')\n",
    "plt.legend()\n",
    "\n",
    "#plt.savefig(savedir+'ROC_lr_0.05_35_weight.pdf')\n",
    "plt.show()"
   ]
  },
  {
   "cell_type": "markdown",
   "id": "6e4f059d",
   "metadata": {},
   "source": [
    "# Correlation between input variables"
   ]
  },
  {
   "cell_type": "code",
   "execution_count": null,
   "id": "9d605aae",
   "metadata": {},
   "outputs": [],
   "source": [
    "#x_train_sel = x_train.query('y_wtots1 >- 800 & y_weta1 > -800')\n",
    "#x_train_sel.reset_index(inplace=True, drop=True)"
   ]
  },
  {
   "cell_type": "code",
   "execution_count": null,
   "id": "37efd405",
   "metadata": {},
   "outputs": [],
   "source": [
    "corr = x_train.corr()"
   ]
  },
  {
   "cell_type": "code",
   "execution_count": null,
   "id": "dc5897f1",
   "metadata": {},
   "outputs": [],
   "source": [
    "fig, ax = plt.subplots(1,1,figsize=(13,13))\n",
    "plt.rcParams.update({'font.size': 10})\n",
    "\n",
    "sns.heatmap(corr, vmin=-1, vmax=1, cmap=\"coolwarm\", ax=ax, annot=True, fmt=\".2f\")\n",
    "\n",
    "plt.tight_layout()\n",
    "plt.savefig(savedir+'AddEvtmu_correlations_train_sample_all.pdf')\n",
    "plt.show()"
   ]
  },
  {
   "cell_type": "markdown",
   "id": "fb973bb8",
   "metadata": {},
   "source": [
    "# Check correlation of discriminating variables (shower shapes) \n",
    "\n",
    "Separately for signal (true photons) and background (fake photons from jets)"
   ]
  },
  {
   "cell_type": "code",
   "execution_count": null,
   "id": "53585d48",
   "metadata": {},
   "outputs": [],
   "source": [
    "corr_sig = x_train[(y_train==1)].corr()"
   ]
  },
  {
   "cell_type": "code",
   "execution_count": null,
   "id": "7aaa864c",
   "metadata": {},
   "outputs": [],
   "source": [
    "corr_bkg = x_train[(y_train==0)].corr()"
   ]
  },
  {
   "cell_type": "code",
   "execution_count": null,
   "id": "71dfae7c",
   "metadata": {},
   "outputs": [],
   "source": [
    "fig, ax = plt.subplots(1,1,figsize=(13,13))\n",
    "plt.rcParams.update({'font.size': 10})\n",
    "\n",
    "sns.heatmap(corr_sig, vmin=-1, vmax=1, cmap=\"coolwarm\", ax=ax, annot=True, fmt=\".2f\")\n",
    "\n",
    "plt.tight_layout()\n",
    "plt.savefig(savedir+'AddEvtmu_correlations_train_sample_all.pdf')\n",
    "plt.show()"
   ]
  },
  {
   "cell_type": "code",
   "execution_count": null,
   "id": "9cd5c7e2",
   "metadata": {},
   "outputs": [],
   "source": [
    "fig, ax = plt.subplots(1,1,figsize=(13,13))\n",
    "plt.rcParams.update({'font.size': 10})\n",
    "\n",
    "sns.heatmap(corr_bkg, vmin=-1, vmax=1, cmap=\"coolwarm\", ax=ax, annot=True, fmt=\".2f\")\n",
    "\n",
    "plt.tight_layout()\n",
    "plt.savefig(savedir+'AddEvtmu_correlations_train_sample_all.pdf')\n",
    "plt.show()"
   ]
  },
  {
   "cell_type": "code",
   "execution_count": null,
   "id": "7032337a",
   "metadata": {},
   "outputs": [],
   "source": []
  },
  {
   "cell_type": "code",
   "execution_count": null,
   "id": "a12b9f33",
   "metadata": {},
   "outputs": [],
   "source": []
  }
 ],
 "metadata": {
  "kernelspec": {
   "display_name": "Python 3 (ipykernel)",
   "language": "python",
   "name": "python3"
  },
  "language_info": {
   "codemirror_mode": {
    "name": "ipython",
    "version": 3
   },
   "file_extension": ".py",
   "mimetype": "text/x-python",
   "name": "python",
   "nbconvert_exporter": "python",
   "pygments_lexer": "ipython3",
   "version": "3.10.12"
  }
 },
 "nbformat": 4,
 "nbformat_minor": 5
}
